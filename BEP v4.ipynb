{
 "cells": [
  {
   "cell_type": "code",
   "execution_count": 1,
   "id": "0ecf5346-5046-4efa-b8e1-4198de2994d5",
   "metadata": {},
   "outputs": [],
   "source": [
    "import sympy as sym\n",
    "import numpy as np\n",
    "import matplotlib.pyplot as plt"
   ]
  },
  {
   "cell_type": "code",
   "execution_count": 2,
   "id": "485a47e2-1432-4262-9f64-8a281b0404d8",
   "metadata": {},
   "outputs": [],
   "source": [
    "# algemene gegevens\n",
    "x = sym.symbols('x')\n",
    "EI, EA = sym.symbols('EI EA')\n",
    "CV, CM, Cphi, Cuz, CN, Cux = sym.symbols('C_V C_M C_phi C_uz C_N C_ux') \n",
    "dx = 2*10**-15\n",
    "\n",
    "# gegevens constructie\n",
    "a0, a1, a2, a3, a4, a5 = 0, 2, 4.5, 7, 12, 14.5\n",
    "aa = [a0, a1, a2, a3, a4, a5]\n",
    "o0, o1, o2, o3, o4 = 0, sym.atan(3/4), sym.atan(3/4), sym.atan(-3/4), sym.atan(-3/4)\n",
    "oo = [o0, o1, o2, o3, o4]\n",
    "\n",
    "# sprongen in de x functie\n",
    "phiBD, uzBD, uxBD, phiCF, uzCF, uxCF = sym.symbols('phi^BD u_z^BD u_x^BD phi^CF u_z^CF u_x^CF')\n",
    "s1, s2 = 7+2*dx, 12+2*dx\n",
    "ss = [s1, s2]\n",
    "\n",
    "# gegevens belastingen\n",
    "Fv = 20\n",
    "Rv, Rh, Tr = sym.symbols('R_v R_h T_R')\n",
    "VBF, HBF, TBF, VCE, HCE, TCE = sym.symbols('V^BF H^BF T^BF V^CE H^CE T^CE')\n",
    "B = [Rv, Rh, Tr, VBF, HBF, TBF, VCE, HCE, TCE, Fv, -VBF, -HBF, -TBF, phiBD, uzBD, uxBD, Fv, -VCE, -HCE, -TCE, phiCF, uzCF, uxCF, Fv]\n",
    "b1, b2, b3, b4, b5, b6, b7, b8 = 0, 2, 4.5, 7, 7+2*dx, 12, 12+2*dx, 14.5\n",
    "bb = [b1, b1, b1, b2, b2, b2, b3, b3, b3, b4, b5, b5, b5, s1, s1, s1, b6, b7, b7, b7, s2, s2, s2, b8]\n",
    "# K = 1, Fv = 2, Fh = 3, qv = 4, qh = 5, phi = 6, uz = 7, ux = 8\n",
    "nn = [2, 3, 1, 2, 3, 1, 2, 3, 1, 2, 2, 3, 1, 6, 7, 8, 2, 2, 3, 1, 6, 7, 8, 2]"
   ]
  },
  {
   "cell_type": "code",
   "execution_count": 3,
   "id": "33716208-fd92-439d-9eb0-a5dd933dae38",
   "metadata": {},
   "outputs": [
    {
     "data": {
      "text/latex": [
       "$\\displaystyle EI \\phi^{BD} {\\left\\langle x - 7.0 \\right\\rangle}^{-3} + EI \\phi^{CF} {\\left\\langle x - 12.0 \\right\\rangle}^{-3} + EI u^{BD}_{z} {\\left\\langle x - 7.0 \\right\\rangle}^{-4} + EI u^{CF}_{z} {\\left\\langle x - 12.0 \\right\\rangle}^{-4} + 0.6 H^{BF} {\\left\\langle x - 2 \\right\\rangle}^{-1} - 1.2 H^{BF} {\\left\\langle x - 7 \\right\\rangle}^{-1} + 0.6 H^{BF} {\\left\\langle x - 7.0 \\right\\rangle}^{-1} + 0.6 H^{CE} {\\left\\langle x - 4.5 \\right\\rangle}^{-1} - 1.2 H^{CE} {\\left\\langle x - 7 \\right\\rangle}^{-1} + 0.6 H^{CE} {\\left\\langle x - 12.0 \\right\\rangle}^{-1} + 0.6 R_{h} {\\left\\langle x - 2 \\right\\rangle}^{-1} - 1.2 R_{h} {\\left\\langle x - 7 \\right\\rangle}^{-1} + R_{v} {\\left\\langle x \\right\\rangle}^{-1} - 0.2 R_{v} {\\left\\langle x - 2 \\right\\rangle}^{-1} + T^{BF} {\\left\\langle x - 2 \\right\\rangle}^{-2} - T^{BF} {\\left\\langle x - 7.0 \\right\\rangle}^{-2} + T^{CE} {\\left\\langle x - 4.5 \\right\\rangle}^{-2} - T^{CE} {\\left\\langle x - 12.0 \\right\\rangle}^{-2} + T_{R} {\\left\\langle x \\right\\rangle}^{-2} + 0.8 V^{BF} {\\left\\langle x - 2 \\right\\rangle}^{-1} - 0.8 V^{BF} {\\left\\langle x - 7.0 \\right\\rangle}^{-1} + 0.8 V^{CE} {\\left\\langle x - 4.5 \\right\\rangle}^{-1} - 0.8 V^{CE} {\\left\\langle x - 12.0 \\right\\rangle}^{-1} + 16.0 {\\left\\langle x - 7 \\right\\rangle}^{-1} + 16.0 {\\left\\langle x - 12 \\right\\rangle}^{-1} + 16.0 {\\left\\langle x - 14.5 \\right\\rangle}^{-1}$"
      ],
      "text/plain": [
       "EI*phi^BD*SingularityFunction(x, 7.0, -3) + EI*phi^CF*SingularityFunction(x, 12.0, -3) + EI*u_z^BD*SingularityFunction(x, 7.0, -4) + EI*u_z^CF*SingularityFunction(x, 12.0, -4) + 0.6*H^BF*SingularityFunction(x, 2, -1) - 1.2*H^BF*SingularityFunction(x, 7, -1) + 0.6*H^BF*SingularityFunction(x, 7.0, -1) + 0.6*H^CE*SingularityFunction(x, 4.5, -1) - 1.2*H^CE*SingularityFunction(x, 7, -1) + 0.6*H^CE*SingularityFunction(x, 12.0, -1) + 0.6*R_h*SingularityFunction(x, 2, -1) - 1.2*R_h*SingularityFunction(x, 7, -1) + R_v*SingularityFunction(x, 0, -1) - 0.2*R_v*SingularityFunction(x, 2, -1) + T^BF*SingularityFunction(x, 2, -2) - T^BF*SingularityFunction(x, 7.0, -2) + T^CE*SingularityFunction(x, 4.5, -2) - T^CE*SingularityFunction(x, 12.0, -2) + T_R*SingularityFunction(x, 0, -2) + 0.8*V^BF*SingularityFunction(x, 2, -1) - 0.8*V^BF*SingularityFunction(x, 7.0, -1) + 0.8*V^CE*SingularityFunction(x, 4.5, -1) - 0.8*V^CE*SingularityFunction(x, 12.0, -1) + 16.0*SingularityFunction(x, 7, -1) + 16.0*SingularityFunction(x, 12, -1) + 16.0*SingularityFunction(x, 14.5, -1)"
      ]
     },
     "metadata": {},
     "output_type": "display_data"
    }
   ],
   "source": [
    "#qz opstellen\n",
    "qz = 0\n",
    "\n",
    "#beginpunten\n",
    "for i in range(len(B)):\n",
    "    for j in range(len(aa)):\n",
    "        if bb[i] == aa[-1]:\n",
    "            if nn[i] == 1:\n",
    "                qz += B[i] * sym.SingularityFunction(x,bb[i],-2)\n",
    "            if nn[i] == 2:\n",
    "                qz += B[i] * sym.SingularityFunction(x,bb[i],-1) * sym.cos(oo[-1])\n",
    "            if nn[i] == 3:\n",
    "                qz += B[i] * sym.SingularityFunction(x,bb[i],-1) * sym.sin(oo[-1])\n",
    "            if nn[i] == 4:\n",
    "                qz += B[i] * sym.SingularityFunction(x,bb[i],0) * sym.cos(oo[-1])\n",
    "            if nn[i] == 5:\n",
    "                qz += B[i] * sym.SingularityFunction(x,bb[i],0) * sym.sin(oo[-1])\n",
    "            break\n",
    "        else:\n",
    "            if bb[i] < aa[j]:\n",
    "                if nn[i] == 1:\n",
    "                    qz += B[i] * sym.SingularityFunction(x,bb[i],-2)\n",
    "                if nn[i] == 2:\n",
    "                    qz += B[i] * sym.SingularityFunction(x,bb[i],-1) * sym.cos(oo[j-1])\n",
    "                if nn[i] == 3:\n",
    "                    qz += B[i] * sym.SingularityFunction(x,bb[i],-1) * sym.sin(oo[j-1])\n",
    "                if nn[i] == 4:\n",
    "                    qz += B[i] * sym.SingularityFunction(x,bb[i],0) * sym.cos(oo[j-1])\n",
    "                if nn[i] == 5:\n",
    "                    qz += B[i] * sym.SingularityFunction(x,bb[i],0) * sym.sin(oo[j-1])\n",
    "                if nn[i] == 6:\n",
    "                    qz += B[i] * sym.SingularityFunction(x,bb[i],-3) * EI\n",
    "                if nn[i] == 7:\n",
    "                    qz += B[i] * sym.SingularityFunction(x,bb[i],-4) * EI\n",
    "                break\n",
    "\n",
    "# knikpunten\n",
    "for i in range(len(B)):\n",
    "    for j in range(len(aa)-1):\n",
    "        if bb[i] < aa[j]:\n",
    "            if nn[i] == 2:\n",
    "                qz += B[i] * sym.SingularityFunction(x,aa[j],-1) * (sym.cos(oo[j]) - sym.cos(oo[j-1]))\n",
    "            if nn[i] == 3:\n",
    "                qz += B[i] * sym.SingularityFunction(x,aa[j],-1) * (sym.sin(oo[j]) - sym.sin(oo[j-1]))\n",
    "            if nn[i] == 4:\n",
    "                qz += B[i] * ((sym.SingularityFunction(x,aa[j],0) + sym.SingularityFunction(x,aa[j],-1) * (aa[j] - bb[i])) * (sym.cos(oo[j]) - sym.cos(oo[j-1])))\n",
    "            if nn[i] == 5:\n",
    "                qz += B[i] * ((sym.SingularityFunction(x,aa[j],0) + sym.SingularityFunction(x,aa[j],-1) * (aa[j] - bb[i])) * (sym.sin(oo[j]) - sym.sin(oo[j-1])))\n",
    "\n",
    "display(qz)"
   ]
  },
  {
   "cell_type": "code",
   "execution_count": 4,
   "id": "42b8e9d1-cde9-41f3-a01c-078e5f034b9e",
   "metadata": {},
   "outputs": [
    {
     "data": {
      "text/latex": [
       "$\\displaystyle EA u^{BD}_{x} {\\left\\langle x - 7.0 \\right\\rangle}^{-2} + EA u^{CF}_{x} {\\left\\langle x - 12.0 \\right\\rangle}^{-2} + 0.8 H^{BF} {\\left\\langle x - 2 \\right\\rangle}^{-1} - 0.8 H^{BF} {\\left\\langle x - 7.0 \\right\\rangle}^{-1} + 0.8 H^{CE} {\\left\\langle x - 4.5 \\right\\rangle}^{-1} - 0.8 H^{CE} {\\left\\langle x - 12.0 \\right\\rangle}^{-1} + R_{h} {\\left\\langle x \\right\\rangle}^{-1} - 0.2 R_{h} {\\left\\langle x - 2 \\right\\rangle}^{-1} - 0.6 R_{v} {\\left\\langle x - 2 \\right\\rangle}^{-1} + 1.2 R_{v} {\\left\\langle x - 7 \\right\\rangle}^{-1} - 0.6 V^{BF} {\\left\\langle x - 2 \\right\\rangle}^{-1} + 1.2 V^{BF} {\\left\\langle x - 7 \\right\\rangle}^{-1} - 0.6 V^{BF} {\\left\\langle x - 7.0 \\right\\rangle}^{-1} - 0.6 V^{CE} {\\left\\langle x - 4.5 \\right\\rangle}^{-1} + 1.2 V^{CE} {\\left\\langle x - 7 \\right\\rangle}^{-1} - 0.6 V^{CE} {\\left\\langle x - 12.0 \\right\\rangle}^{-1} + 12.0 {\\left\\langle x - 7 \\right\\rangle}^{-1} + 12.0 {\\left\\langle x - 12 \\right\\rangle}^{-1} + 12.0 {\\left\\langle x - 14.5 \\right\\rangle}^{-1}$"
      ],
      "text/plain": [
       "EA*u_x^BD*SingularityFunction(x, 7.0, -2) + EA*u_x^CF*SingularityFunction(x, 12.0, -2) + 0.8*H^BF*SingularityFunction(x, 2, -1) - 0.8*H^BF*SingularityFunction(x, 7.0, -1) + 0.8*H^CE*SingularityFunction(x, 4.5, -1) - 0.8*H^CE*SingularityFunction(x, 12.0, -1) + R_h*SingularityFunction(x, 0, -1) - 0.2*R_h*SingularityFunction(x, 2, -1) - 0.6*R_v*SingularityFunction(x, 2, -1) + 1.2*R_v*SingularityFunction(x, 7, -1) - 0.6*V^BF*SingularityFunction(x, 2, -1) + 1.2*V^BF*SingularityFunction(x, 7, -1) - 0.6*V^BF*SingularityFunction(x, 7.0, -1) - 0.6*V^CE*SingularityFunction(x, 4.5, -1) + 1.2*V^CE*SingularityFunction(x, 7, -1) - 0.6*V^CE*SingularityFunction(x, 12.0, -1) + 12.0*SingularityFunction(x, 7, -1) + 12.0*SingularityFunction(x, 12, -1) + 12.0*SingularityFunction(x, 14.5, -1)"
      ]
     },
     "metadata": {},
     "output_type": "display_data"
    }
   ],
   "source": [
    "#qx opstellen\n",
    "qx = 0\n",
    "\n",
    "#beginpunten\n",
    "for i in range(len(B)):\n",
    "    for j in range(len(aa)):\n",
    "        if bb[i] == aa[-1]:\n",
    "            if nn[i] == 2:\n",
    "                qx += B[i] * sym.SingularityFunction(x,bb[i],-1) * -sym.sin(oo[-1])\n",
    "            if nn[i] == 3:\n",
    "                qx += B[i] * sym.SingularityFunction(x,bb[i],-1) * sym.cos(oo[-1])\n",
    "            if nn[i] == 4:\n",
    "                qx += B[i] * sym.SingularityFunction(x,bb[i],0) * -sym.sin(oo[-1])\n",
    "            if nn[i] == 5:\n",
    "                qx += B[i] * sym.SingularityFunction(x,bb[i],0) * sym.cos(oo[-1])\n",
    "            break\n",
    "        else:\n",
    "            if bb[i] < aa[j]:\n",
    "                if nn[i] == 2:\n",
    "                    qx += B[i] * sym.SingularityFunction(x,bb[i],-1) * -sym.sin(oo[j-1])\n",
    "                if nn[i] == 3:\n",
    "                    qx += B[i] * sym.SingularityFunction(x,bb[i],-1) * sym.cos(oo[j-1])\n",
    "                if nn[i] == 4:\n",
    "                    qx += B[i] * sym.SingularityFunction(x,bb[i],0) * -sym.sin(oo[j-1])\n",
    "                if nn[i] == 5:\n",
    "                    qx += B[i] * sym.SingularityFunction(x,bb[i],0) * sym.cos(oo[j-1])\n",
    "                if nn[i] == 8:\n",
    "                    qx += B[i] * sym.SingularityFunction(x,bb[i],-2) * EA\n",
    "                break\n",
    "\n",
    "# knikpunten\n",
    "for i in range(len(B)):\n",
    "    for j in range(len(aa)-1):\n",
    "        if bb[i] < aa[j]:\n",
    "            if nn[i] == 2:\n",
    "                qx += B[i] * sym.SingularityFunction(x,aa[j],-1) * (-sym.sin(oo[j]) + sym.sin(oo[j-1]))\n",
    "            if nn[i] == 3:\n",
    "                qx += B[i] * sym.SingularityFunction(x,aa[j],-1) * (sym.cos(oo[j]) - sym.cos(oo[j-1]))\n",
    "            if nn[i] == 4:\n",
    "                qx += B[i] * ((sym.SingularityFunction(x,aa[j],0) + sym.SingularityFunction(x,aa[j],-1) * (aa[j] - bb[i])) * (-sym.sin(oo[j]) + sym.sin(oo[j-1])))\n",
    "            if nn[i] == 5:\n",
    "                qx += B[i] * ((sym.SingularityFunction(x,aa[j],0) + sym.SingularityFunction(x,aa[j],-1) * (aa[j] - bb[i])) * (sym.cos(oo[j]) - sym.cos(oo[j-1])))\n",
    "\n",
    "display(qx)"
   ]
  },
  {
   "cell_type": "code",
   "execution_count": 5,
   "id": "daf5d314-8e55-4b15-a8ed-e0f22e6dabfe",
   "metadata": {},
   "outputs": [
    {
     "data": {
      "text/latex": [
       "$\\displaystyle {N}=$"
      ],
      "text/plain": [
       "{N}="
      ]
     },
     "metadata": {},
     "output_type": "display_data"
    },
    {
     "data": {
      "text/latex": [
       "$\\displaystyle C_{N} - EA u^{BD}_{x} {\\left\\langle x - 7.0 \\right\\rangle}^{-1} - EA u^{CF}_{x} {\\left\\langle x - 12.0 \\right\\rangle}^{-1} - 0.8 H^{BF} {\\left\\langle x - 2 \\right\\rangle}^{0} + 0.8 H^{BF} {\\left\\langle x - 7.0 \\right\\rangle}^{0} - 0.8 H^{CE} {\\left\\langle x - 4.5 \\right\\rangle}^{0} + 0.8 H^{CE} {\\left\\langle x - 12.0 \\right\\rangle}^{0} - R_{h} {\\left\\langle x \\right\\rangle}^{0} + 0.2 R_{h} {\\left\\langle x - 2 \\right\\rangle}^{0} + 0.6 R_{v} {\\left\\langle x - 2 \\right\\rangle}^{0} - 1.2 R_{v} {\\left\\langle x - 7 \\right\\rangle}^{0} + 0.6 V^{BF} {\\left\\langle x - 2 \\right\\rangle}^{0} - 1.2 V^{BF} {\\left\\langle x - 7 \\right\\rangle}^{0} + 0.6 V^{BF} {\\left\\langle x - 7.0 \\right\\rangle}^{0} + 0.6 V^{CE} {\\left\\langle x - 4.5 \\right\\rangle}^{0} - 1.2 V^{CE} {\\left\\langle x - 7 \\right\\rangle}^{0} + 0.6 V^{CE} {\\left\\langle x - 12.0 \\right\\rangle}^{0} - 12.0 {\\left\\langle x - 7 \\right\\rangle}^{0} - 12.0 {\\left\\langle x - 12 \\right\\rangle}^{0} - 12.0 {\\left\\langle x - 14.5 \\right\\rangle}^{0}$"
      ],
      "text/plain": [
       "C_N - EA*u_x^BD*SingularityFunction(x, 7.0, -1) - EA*u_x^CF*SingularityFunction(x, 12.0, -1) - 0.8*H^BF*SingularityFunction(x, 2, 0) + 0.8*H^BF*SingularityFunction(x, 7.0, 0) - 0.8*H^CE*SingularityFunction(x, 4.5, 0) + 0.8*H^CE*SingularityFunction(x, 12.0, 0) - R_h*SingularityFunction(x, 0, 0) + 0.2*R_h*SingularityFunction(x, 2, 0) + 0.6*R_v*SingularityFunction(x, 2, 0) - 1.2*R_v*SingularityFunction(x, 7, 0) + 0.6*V^BF*SingularityFunction(x, 2, 0) - 1.2*V^BF*SingularityFunction(x, 7, 0) + 0.6*V^BF*SingularityFunction(x, 7.0, 0) + 0.6*V^CE*SingularityFunction(x, 4.5, 0) - 1.2*V^CE*SingularityFunction(x, 7, 0) + 0.6*V^CE*SingularityFunction(x, 12.0, 0) - 12.0*SingularityFunction(x, 7, 0) - 12.0*SingularityFunction(x, 12, 0) - 12.0*SingularityFunction(x, 14.5, 0)"
      ]
     },
     "metadata": {},
     "output_type": "display_data"
    },
    {
     "data": {
      "text/latex": [
       "$\\displaystyle {V}=$"
      ],
      "text/plain": [
       "{V}="
      ]
     },
     "metadata": {},
     "output_type": "display_data"
    },
    {
     "data": {
      "text/latex": [
       "$\\displaystyle C_{V} - EI \\phi^{BD} {\\left\\langle x - 7.0 \\right\\rangle}^{-2} - EI \\phi^{CF} {\\left\\langle x - 12.0 \\right\\rangle}^{-2} - EI u^{BD}_{z} {\\left\\langle x - 7.0 \\right\\rangle}^{-3} - EI u^{CF}_{z} {\\left\\langle x - 12.0 \\right\\rangle}^{-3} - 0.6 H^{BF} {\\left\\langle x - 2 \\right\\rangle}^{0} + 1.2 H^{BF} {\\left\\langle x - 7 \\right\\rangle}^{0} - 0.6 H^{BF} {\\left\\langle x - 7.0 \\right\\rangle}^{0} - 0.6 H^{CE} {\\left\\langle x - 4.5 \\right\\rangle}^{0} + 1.2 H^{CE} {\\left\\langle x - 7 \\right\\rangle}^{0} - 0.6 H^{CE} {\\left\\langle x - 12.0 \\right\\rangle}^{0} - 0.6 R_{h} {\\left\\langle x - 2 \\right\\rangle}^{0} + 1.2 R_{h} {\\left\\langle x - 7 \\right\\rangle}^{0} - R_{v} {\\left\\langle x \\right\\rangle}^{0} + 0.2 R_{v} {\\left\\langle x - 2 \\right\\rangle}^{0} - T^{BF} {\\left\\langle x - 2 \\right\\rangle}^{-1} + T^{BF} {\\left\\langle x - 7.0 \\right\\rangle}^{-1} - T^{CE} {\\left\\langle x - 4.5 \\right\\rangle}^{-1} + T^{CE} {\\left\\langle x - 12.0 \\right\\rangle}^{-1} - T_{R} {\\left\\langle x \\right\\rangle}^{-1} - 0.8 V^{BF} {\\left\\langle x - 2 \\right\\rangle}^{0} + 0.8 V^{BF} {\\left\\langle x - 7.0 \\right\\rangle}^{0} - 0.8 V^{CE} {\\left\\langle x - 4.5 \\right\\rangle}^{0} + 0.8 V^{CE} {\\left\\langle x - 12.0 \\right\\rangle}^{0} - 16.0 {\\left\\langle x - 7 \\right\\rangle}^{0} - 16.0 {\\left\\langle x - 12 \\right\\rangle}^{0} - 16.0 {\\left\\langle x - 14.5 \\right\\rangle}^{0}$"
      ],
      "text/plain": [
       "C_V - EI*phi^BD*SingularityFunction(x, 7.0, -2) - EI*phi^CF*SingularityFunction(x, 12.0, -2) - EI*u_z^BD*SingularityFunction(x, 7.0, -3) - EI*u_z^CF*SingularityFunction(x, 12.0, -3) - 0.6*H^BF*SingularityFunction(x, 2, 0) + 1.2*H^BF*SingularityFunction(x, 7, 0) - 0.6*H^BF*SingularityFunction(x, 7.0, 0) - 0.6*H^CE*SingularityFunction(x, 4.5, 0) + 1.2*H^CE*SingularityFunction(x, 7, 0) - 0.6*H^CE*SingularityFunction(x, 12.0, 0) - 0.6*R_h*SingularityFunction(x, 2, 0) + 1.2*R_h*SingularityFunction(x, 7, 0) - R_v*SingularityFunction(x, 0, 0) + 0.2*R_v*SingularityFunction(x, 2, 0) - T^BF*SingularityFunction(x, 2, -1) + T^BF*SingularityFunction(x, 7.0, -1) - T^CE*SingularityFunction(x, 4.5, -1) + T^CE*SingularityFunction(x, 12.0, -1) - T_R*SingularityFunction(x, 0, -1) - 0.8*V^BF*SingularityFunction(x, 2, 0) + 0.8*V^BF*SingularityFunction(x, 7.0, 0) - 0.8*V^CE*SingularityFunction(x, 4.5, 0) + 0.8*V^CE*SingularityFunction(x, 12.0, 0) - 16.0*SingularityFunction(x, 7, 0) - 16.0*SingularityFunction(x, 12, 0) - 16.0*SingularityFunction(x, 14.5, 0)"
      ]
     },
     "metadata": {},
     "output_type": "display_data"
    },
    {
     "data": {
      "text/latex": [
       "$\\displaystyle {M}=$"
      ],
      "text/plain": [
       "{M}="
      ]
     },
     "metadata": {},
     "output_type": "display_data"
    },
    {
     "data": {
      "text/latex": [
       "$\\displaystyle C_{M} + C_{V} x - EI \\phi^{BD} {\\left\\langle x - 7.0 \\right\\rangle}^{-1} - EI \\phi^{CF} {\\left\\langle x - 12.0 \\right\\rangle}^{-1} - EI u^{BD}_{z} {\\left\\langle x - 7.0 \\right\\rangle}^{-2} - EI u^{CF}_{z} {\\left\\langle x - 12.0 \\right\\rangle}^{-2} - 0.6 H^{BF} {\\left\\langle x - 2 \\right\\rangle}^{1} + 1.2 H^{BF} {\\left\\langle x - 7 \\right\\rangle}^{1} - 0.6 H^{BF} {\\left\\langle x - 7.0 \\right\\rangle}^{1} - 0.6 H^{CE} {\\left\\langle x - 4.5 \\right\\rangle}^{1} + 1.2 H^{CE} {\\left\\langle x - 7 \\right\\rangle}^{1} - 0.6 H^{CE} {\\left\\langle x - 12.0 \\right\\rangle}^{1} - 0.6 R_{h} {\\left\\langle x - 2 \\right\\rangle}^{1} + 1.2 R_{h} {\\left\\langle x - 7 \\right\\rangle}^{1} - R_{v} {\\left\\langle x \\right\\rangle}^{1} + 0.2 R_{v} {\\left\\langle x - 2 \\right\\rangle}^{1} - T^{BF} {\\left\\langle x - 2 \\right\\rangle}^{0} + T^{BF} {\\left\\langle x - 7.0 \\right\\rangle}^{0} - T^{CE} {\\left\\langle x - 4.5 \\right\\rangle}^{0} + T^{CE} {\\left\\langle x - 12.0 \\right\\rangle}^{0} - T_{R} {\\left\\langle x \\right\\rangle}^{0} - 0.8 V^{BF} {\\left\\langle x - 2 \\right\\rangle}^{1} + 0.8 V^{BF} {\\left\\langle x - 7.0 \\right\\rangle}^{1} - 0.8 V^{CE} {\\left\\langle x - 4.5 \\right\\rangle}^{1} + 0.8 V^{CE} {\\left\\langle x - 12.0 \\right\\rangle}^{1} - 16.0 {\\left\\langle x - 7 \\right\\rangle}^{1} - 16.0 {\\left\\langle x - 12 \\right\\rangle}^{1} - 16.0 {\\left\\langle x - 14.5 \\right\\rangle}^{1}$"
      ],
      "text/plain": [
       "C_M + C_V*x - EI*phi^BD*SingularityFunction(x, 7.0, -1) - EI*phi^CF*SingularityFunction(x, 12.0, -1) - EI*u_z^BD*SingularityFunction(x, 7.0, -2) - EI*u_z^CF*SingularityFunction(x, 12.0, -2) - 0.6*H^BF*SingularityFunction(x, 2, 1) + 1.2*H^BF*SingularityFunction(x, 7, 1) - 0.6*H^BF*SingularityFunction(x, 7.0, 1) - 0.6*H^CE*SingularityFunction(x, 4.5, 1) + 1.2*H^CE*SingularityFunction(x, 7, 1) - 0.6*H^CE*SingularityFunction(x, 12.0, 1) - 0.6*R_h*SingularityFunction(x, 2, 1) + 1.2*R_h*SingularityFunction(x, 7, 1) - R_v*SingularityFunction(x, 0, 1) + 0.2*R_v*SingularityFunction(x, 2, 1) - T^BF*SingularityFunction(x, 2, 0) + T^BF*SingularityFunction(x, 7.0, 0) - T^CE*SingularityFunction(x, 4.5, 0) + T^CE*SingularityFunction(x, 12.0, 0) - T_R*SingularityFunction(x, 0, 0) - 0.8*V^BF*SingularityFunction(x, 2, 1) + 0.8*V^BF*SingularityFunction(x, 7.0, 1) - 0.8*V^CE*SingularityFunction(x, 4.5, 1) + 0.8*V^CE*SingularityFunction(x, 12.0, 1) - 16.0*SingularityFunction(x, 7, 1) - 16.0*SingularityFunction(x, 12, 1) - 16.0*SingularityFunction(x, 14.5, 1)"
      ]
     },
     "metadata": {},
     "output_type": "display_data"
    },
    {
     "data": {
      "text/latex": [
       "$\\displaystyle {u_x}=$"
      ],
      "text/plain": [
       "{u_x}="
      ]
     },
     "metadata": {},
     "output_type": "display_data"
    },
    {
     "data": {
      "text/latex": [
       "$\\displaystyle C_{ux} + \\frac{C_{N} x - EA u^{BD}_{x} {\\left\\langle x - 7.0 \\right\\rangle}^{0} - EA u^{CF}_{x} {\\left\\langle x - 12.0 \\right\\rangle}^{0} - 0.8 H^{BF} {\\left\\langle x - 2 \\right\\rangle}^{1} + 0.8 H^{BF} {\\left\\langle x - 7.0 \\right\\rangle}^{1} - 0.8 H^{CE} {\\left\\langle x - 4.5 \\right\\rangle}^{1} + 0.8 H^{CE} {\\left\\langle x - 12.0 \\right\\rangle}^{1} - R_{h} {\\left\\langle x \\right\\rangle}^{1} + 0.2 R_{h} {\\left\\langle x - 2 \\right\\rangle}^{1} + 0.6 R_{v} {\\left\\langle x - 2 \\right\\rangle}^{1} - 1.2 R_{v} {\\left\\langle x - 7 \\right\\rangle}^{1} + 0.6 V^{BF} {\\left\\langle x - 2 \\right\\rangle}^{1} - 1.2 V^{BF} {\\left\\langle x - 7 \\right\\rangle}^{1} + 0.6 V^{BF} {\\left\\langle x - 7.0 \\right\\rangle}^{1} + 0.6 V^{CE} {\\left\\langle x - 4.5 \\right\\rangle}^{1} - 1.2 V^{CE} {\\left\\langle x - 7 \\right\\rangle}^{1} + 0.6 V^{CE} {\\left\\langle x - 12.0 \\right\\rangle}^{1} - 12.0 {\\left\\langle x - 7 \\right\\rangle}^{1} - 12.0 {\\left\\langle x - 12 \\right\\rangle}^{1} - 12.0 {\\left\\langle x - 14.5 \\right\\rangle}^{1}}{EA}$"
      ],
      "text/plain": [
       "C_ux + (C_N*x - EA*u_x^BD*SingularityFunction(x, 7.0, 0) - EA*u_x^CF*SingularityFunction(x, 12.0, 0) - 0.8*H^BF*SingularityFunction(x, 2, 1) + 0.8*H^BF*SingularityFunction(x, 7.0, 1) - 0.8*H^CE*SingularityFunction(x, 4.5, 1) + 0.8*H^CE*SingularityFunction(x, 12.0, 1) - R_h*SingularityFunction(x, 0, 1) + 0.2*R_h*SingularityFunction(x, 2, 1) + 0.6*R_v*SingularityFunction(x, 2, 1) - 1.2*R_v*SingularityFunction(x, 7, 1) + 0.6*V^BF*SingularityFunction(x, 2, 1) - 1.2*V^BF*SingularityFunction(x, 7, 1) + 0.6*V^BF*SingularityFunction(x, 7.0, 1) + 0.6*V^CE*SingularityFunction(x, 4.5, 1) - 1.2*V^CE*SingularityFunction(x, 7, 1) + 0.6*V^CE*SingularityFunction(x, 12.0, 1) - 12.0*SingularityFunction(x, 7, 1) - 12.0*SingularityFunction(x, 12, 1) - 12.0*SingularityFunction(x, 14.5, 1))/EA"
      ]
     },
     "metadata": {},
     "output_type": "display_data"
    },
    {
     "data": {
      "text/latex": [
       "$\\displaystyle {\\phi}=$"
      ],
      "text/plain": [
       "{\\phi}="
      ]
     },
     "metadata": {},
     "output_type": "display_data"
    },
    {
     "data": {
      "text/latex": [
       "$\\displaystyle C_{\\phi} + \\frac{C_{M} x + \\frac{C_{V} x^{2}}{2} - EI \\phi^{BD} {\\left\\langle x - 7.0 \\right\\rangle}^{0} - EI \\phi^{CF} {\\left\\langle x - 12.0 \\right\\rangle}^{0} - EI u^{BD}_{z} {\\left\\langle x - 7.0 \\right\\rangle}^{-1} - EI u^{CF}_{z} {\\left\\langle x - 12.0 \\right\\rangle}^{-1} - 0.3 H^{BF} {\\left\\langle x - 2 \\right\\rangle}^{2} + 0.6 H^{BF} {\\left\\langle x - 7 \\right\\rangle}^{2} - 0.3 H^{BF} {\\left\\langle x - 7.0 \\right\\rangle}^{2} - 0.3 H^{CE} {\\left\\langle x - 4.5 \\right\\rangle}^{2} + 0.6 H^{CE} {\\left\\langle x - 7 \\right\\rangle}^{2} - 0.3 H^{CE} {\\left\\langle x - 12.0 \\right\\rangle}^{2} - 0.3 R_{h} {\\left\\langle x - 2 \\right\\rangle}^{2} + 0.6 R_{h} {\\left\\langle x - 7 \\right\\rangle}^{2} - \\frac{R_{v} {\\left\\langle x \\right\\rangle}^{2}}{2} + 0.1 R_{v} {\\left\\langle x - 2 \\right\\rangle}^{2} - T^{BF} {\\left\\langle x - 2 \\right\\rangle}^{1} + T^{BF} {\\left\\langle x - 7.0 \\right\\rangle}^{1} - T^{CE} {\\left\\langle x - 4.5 \\right\\rangle}^{1} + T^{CE} {\\left\\langle x - 12.0 \\right\\rangle}^{1} - T_{R} {\\left\\langle x \\right\\rangle}^{1} - 0.4 V^{BF} {\\left\\langle x - 2 \\right\\rangle}^{2} + 0.4 V^{BF} {\\left\\langle x - 7.0 \\right\\rangle}^{2} - 0.4 V^{CE} {\\left\\langle x - 4.5 \\right\\rangle}^{2} + 0.4 V^{CE} {\\left\\langle x - 12.0 \\right\\rangle}^{2} - 8.0 {\\left\\langle x - 7 \\right\\rangle}^{2} - 8.0 {\\left\\langle x - 12 \\right\\rangle}^{2} - 8.0 {\\left\\langle x - 14.5 \\right\\rangle}^{2}}{EI}$"
      ],
      "text/plain": [
       "C_phi + (C_M*x + C_V*x**2/2 - EI*phi^BD*SingularityFunction(x, 7.0, 0) - EI*phi^CF*SingularityFunction(x, 12.0, 0) - EI*u_z^BD*SingularityFunction(x, 7.0, -1) - EI*u_z^CF*SingularityFunction(x, 12.0, -1) - 0.3*H^BF*SingularityFunction(x, 2, 2) + 0.6*H^BF*SingularityFunction(x, 7, 2) - 0.3*H^BF*SingularityFunction(x, 7.0, 2) - 0.3*H^CE*SingularityFunction(x, 4.5, 2) + 0.6*H^CE*SingularityFunction(x, 7, 2) - 0.3*H^CE*SingularityFunction(x, 12.0, 2) - 0.3*R_h*SingularityFunction(x, 2, 2) + 0.6*R_h*SingularityFunction(x, 7, 2) - R_v*SingularityFunction(x, 0, 2)/2 + 0.1*R_v*SingularityFunction(x, 2, 2) - T^BF*SingularityFunction(x, 2, 1) + T^BF*SingularityFunction(x, 7.0, 1) - T^CE*SingularityFunction(x, 4.5, 1) + T^CE*SingularityFunction(x, 12.0, 1) - T_R*SingularityFunction(x, 0, 1) - 0.4*V^BF*SingularityFunction(x, 2, 2) + 0.4*V^BF*SingularityFunction(x, 7.0, 2) - 0.4*V^CE*SingularityFunction(x, 4.5, 2) + 0.4*V^CE*SingularityFunction(x, 12.0, 2) - 8.0*SingularityFunction(x, 7, 2) - 8.0*SingularityFunction(x, 12, 2) - 8.0*SingularityFunction(x, 14.5, 2))/EI"
      ]
     },
     "metadata": {},
     "output_type": "display_data"
    },
    {
     "data": {
      "text/latex": [
       "$\\displaystyle {u_z}=$"
      ],
      "text/plain": [
       "{u_z}="
      ]
     },
     "metadata": {},
     "output_type": "display_data"
    },
    {
     "data": {
      "text/latex": [
       "$\\displaystyle - C_{\\phi} x + C_{uz} - \\frac{\\frac{C_{M} x^{2}}{2} + \\frac{C_{V} x^{3}}{6} - EI \\phi^{BD} {\\left\\langle x - 7.0 \\right\\rangle}^{1} - EI \\phi^{CF} {\\left\\langle x - 12.0 \\right\\rangle}^{1} - EI u^{BD}_{z} {\\left\\langle x - 7.0 \\right\\rangle}^{0} - EI u^{CF}_{z} {\\left\\langle x - 12.0 \\right\\rangle}^{0} - 0.1 H^{BF} {\\left\\langle x - 2 \\right\\rangle}^{3} + 0.2 H^{BF} {\\left\\langle x - 7 \\right\\rangle}^{3} - 0.1 H^{BF} {\\left\\langle x - 7.0 \\right\\rangle}^{3} - 0.1 H^{CE} {\\left\\langle x - 4.5 \\right\\rangle}^{3} + 0.2 H^{CE} {\\left\\langle x - 7 \\right\\rangle}^{3} - 0.1 H^{CE} {\\left\\langle x - 12.0 \\right\\rangle}^{3} - 0.1 R_{h} {\\left\\langle x - 2 \\right\\rangle}^{3} + 0.2 R_{h} {\\left\\langle x - 7 \\right\\rangle}^{3} - \\frac{R_{v} {\\left\\langle x \\right\\rangle}^{3}}{6} + 0.0333333333333333 R_{v} {\\left\\langle x - 2 \\right\\rangle}^{3} - \\frac{T^{BF} {\\left\\langle x - 2 \\right\\rangle}^{2}}{2} + \\frac{T^{BF} {\\left\\langle x - 7.0 \\right\\rangle}^{2}}{2} - \\frac{T^{CE} {\\left\\langle x - 4.5 \\right\\rangle}^{2}}{2} + \\frac{T^{CE} {\\left\\langle x - 12.0 \\right\\rangle}^{2}}{2} - \\frac{T_{R} {\\left\\langle x \\right\\rangle}^{2}}{2} - 0.133333333333333 V^{BF} {\\left\\langle x - 2 \\right\\rangle}^{3} + 0.133333333333333 V^{BF} {\\left\\langle x - 7.0 \\right\\rangle}^{3} - 0.133333333333333 V^{CE} {\\left\\langle x - 4.5 \\right\\rangle}^{3} + 0.133333333333333 V^{CE} {\\left\\langle x - 12.0 \\right\\rangle}^{3} - 2.66666666666667 {\\left\\langle x - 7 \\right\\rangle}^{3} - 2.66666666666667 {\\left\\langle x - 12 \\right\\rangle}^{3} - 2.66666666666667 {\\left\\langle x - 14.5 \\right\\rangle}^{3}}{EI}$"
      ],
      "text/plain": [
       "-C_phi*x + C_uz - (C_M*x**2/2 + C_V*x**3/6 - EI*phi^BD*SingularityFunction(x, 7.0, 1) - EI*phi^CF*SingularityFunction(x, 12.0, 1) - EI*u_z^BD*SingularityFunction(x, 7.0, 0) - EI*u_z^CF*SingularityFunction(x, 12.0, 0) - 0.1*H^BF*SingularityFunction(x, 2, 3) + 0.2*H^BF*SingularityFunction(x, 7, 3) - 0.1*H^BF*SingularityFunction(x, 7.0, 3) - 0.1*H^CE*SingularityFunction(x, 4.5, 3) + 0.2*H^CE*SingularityFunction(x, 7, 3) - 0.1*H^CE*SingularityFunction(x, 12.0, 3) - 0.1*R_h*SingularityFunction(x, 2, 3) + 0.2*R_h*SingularityFunction(x, 7, 3) - R_v*SingularityFunction(x, 0, 3)/6 + 0.0333333333333333*R_v*SingularityFunction(x, 2, 3) - T^BF*SingularityFunction(x, 2, 2)/2 + T^BF*SingularityFunction(x, 7.0, 2)/2 - T^CE*SingularityFunction(x, 4.5, 2)/2 + T^CE*SingularityFunction(x, 12.0, 2)/2 - T_R*SingularityFunction(x, 0, 2)/2 - 0.133333333333333*V^BF*SingularityFunction(x, 2, 3) + 0.133333333333333*V^BF*SingularityFunction(x, 7.0, 3) - 0.133333333333333*V^CE*SingularityFunction(x, 4.5, 3) + 0.133333333333333*V^CE*SingularityFunction(x, 12.0, 3) - 2.66666666666667*SingularityFunction(x, 7, 3) - 2.66666666666667*SingularityFunction(x, 12, 3) - 2.66666666666667*SingularityFunction(x, 14.5, 3))/EI"
      ]
     },
     "metadata": {},
     "output_type": "display_data"
    },
    {
     "data": {
      "text/latex": [
       "$\\displaystyle {u_v}=$"
      ],
      "text/plain": [
       "{u_v}="
      ]
     },
     "metadata": {},
     "output_type": "display_data"
    },
    {
     "data": {
      "text/latex": [
       "$\\displaystyle C_{uz} + \\left(- C_{\\phi} x - \\frac{\\frac{C_{M} x^{2}}{2} + \\frac{C_{V} x^{3}}{6} - EI \\phi^{BD} {\\left\\langle x - 7.0 \\right\\rangle}^{1} - EI \\phi^{CF} {\\left\\langle x - 12.0 \\right\\rangle}^{1} - EI u^{BD}_{z} {\\left\\langle x - 7.0 \\right\\rangle}^{0} - EI u^{CF}_{z} {\\left\\langle x - 12.0 \\right\\rangle}^{0} - 0.1 H^{BF} {\\left\\langle x - 2 \\right\\rangle}^{3} + 0.2 H^{BF} {\\left\\langle x - 7 \\right\\rangle}^{3} - 0.1 H^{BF} {\\left\\langle x - 7.0 \\right\\rangle}^{3} - 0.1 H^{CE} {\\left\\langle x - 4.5 \\right\\rangle}^{3} + 0.2 H^{CE} {\\left\\langle x - 7 \\right\\rangle}^{3} - 0.1 H^{CE} {\\left\\langle x - 12.0 \\right\\rangle}^{3} - 0.1 R_{h} {\\left\\langle x - 2 \\right\\rangle}^{3} + 0.2 R_{h} {\\left\\langle x - 7 \\right\\rangle}^{3} - \\frac{R_{v} {\\left\\langle x \\right\\rangle}^{3}}{6} + 0.0333333333333333 R_{v} {\\left\\langle x - 2 \\right\\rangle}^{3} - \\frac{T^{BF} {\\left\\langle x - 2 \\right\\rangle}^{2}}{2} + \\frac{T^{BF} {\\left\\langle x - 7.0 \\right\\rangle}^{2}}{2} - \\frac{T^{CE} {\\left\\langle x - 4.5 \\right\\rangle}^{2}}{2} + \\frac{T^{CE} {\\left\\langle x - 12.0 \\right\\rangle}^{2}}{2} - \\frac{T_{R} {\\left\\langle x \\right\\rangle}^{2}}{2} - 0.133333333333333 V^{BF} {\\left\\langle x - 2 \\right\\rangle}^{3} + 0.133333333333333 V^{BF} {\\left\\langle x - 7.0 \\right\\rangle}^{3} - 0.133333333333333 V^{CE} {\\left\\langle x - 4.5 \\right\\rangle}^{3} + 0.133333333333333 V^{CE} {\\left\\langle x - 12.0 \\right\\rangle}^{3} - 2.66666666666667 {\\left\\langle x - 7 \\right\\rangle}^{3} - 2.66666666666667 {\\left\\langle x - 12 \\right\\rangle}^{3} - 2.66666666666667 {\\left\\langle x - 14.5 \\right\\rangle}^{3}}{EI}\\right) {\\left\\langle x \\right\\rangle}^{0} - 0.6 \\left(- \\frac{2 C_{N} - 2 R_{h}}{EA} + \\frac{C_{N} x - EA u^{BD}_{x} {\\left\\langle x - 7.0 \\right\\rangle}^{0} - EA u^{CF}_{x} {\\left\\langle x - 12.0 \\right\\rangle}^{0} - 0.8 H^{BF} {\\left\\langle x - 2 \\right\\rangle}^{1} + 0.8 H^{BF} {\\left\\langle x - 7.0 \\right\\rangle}^{1} - 0.8 H^{CE} {\\left\\langle x - 4.5 \\right\\rangle}^{1} + 0.8 H^{CE} {\\left\\langle x - 12.0 \\right\\rangle}^{1} - R_{h} {\\left\\langle x \\right\\rangle}^{1} + 0.2 R_{h} {\\left\\langle x - 2 \\right\\rangle}^{1} + 0.6 R_{v} {\\left\\langle x - 2 \\right\\rangle}^{1} - 1.2 R_{v} {\\left\\langle x - 7 \\right\\rangle}^{1} + 0.6 V^{BF} {\\left\\langle x - 2 \\right\\rangle}^{1} - 1.2 V^{BF} {\\left\\langle x - 7 \\right\\rangle}^{1} + 0.6 V^{BF} {\\left\\langle x - 7.0 \\right\\rangle}^{1} + 0.6 V^{CE} {\\left\\langle x - 4.5 \\right\\rangle}^{1} - 1.2 V^{CE} {\\left\\langle x - 7 \\right\\rangle}^{1} + 0.6 V^{CE} {\\left\\langle x - 12.0 \\right\\rangle}^{1} - 12.0 {\\left\\langle x - 7 \\right\\rangle}^{1} - 12.0 {\\left\\langle x - 12 \\right\\rangle}^{1} - 12.0 {\\left\\langle x - 14.5 \\right\\rangle}^{1}}{EA}\\right) {\\left\\langle x - 2 \\right\\rangle}^{0} + 1.2 \\left(- \\frac{7 C_{N} - 4.0 H^{BF} - 2.0 H^{CE} - 6.0 R_{h} + 3.0 R_{v} + 3.0 V^{BF} + 1.5 V^{CE}}{EA} + \\frac{C_{N} x - EA u^{BD}_{x} {\\left\\langle x - 7.0 \\right\\rangle}^{0} - EA u^{CF}_{x} {\\left\\langle x - 12.0 \\right\\rangle}^{0} - 0.8 H^{BF} {\\left\\langle x - 2 \\right\\rangle}^{1} + 0.8 H^{BF} {\\left\\langle x - 7.0 \\right\\rangle}^{1} - 0.8 H^{CE} {\\left\\langle x - 4.5 \\right\\rangle}^{1} + 0.8 H^{CE} {\\left\\langle x - 12.0 \\right\\rangle}^{1} - R_{h} {\\left\\langle x \\right\\rangle}^{1} + 0.2 R_{h} {\\left\\langle x - 2 \\right\\rangle}^{1} + 0.6 R_{v} {\\left\\langle x - 2 \\right\\rangle}^{1} - 1.2 R_{v} {\\left\\langle x - 7 \\right\\rangle}^{1} + 0.6 V^{BF} {\\left\\langle x - 2 \\right\\rangle}^{1} - 1.2 V^{BF} {\\left\\langle x - 7 \\right\\rangle}^{1} + 0.6 V^{BF} {\\left\\langle x - 7.0 \\right\\rangle}^{1} + 0.6 V^{CE} {\\left\\langle x - 4.5 \\right\\rangle}^{1} - 1.2 V^{CE} {\\left\\langle x - 7 \\right\\rangle}^{1} + 0.6 V^{CE} {\\left\\langle x - 12.0 \\right\\rangle}^{1} - 12.0 {\\left\\langle x - 7 \\right\\rangle}^{1} - 12.0 {\\left\\langle x - 12 \\right\\rangle}^{1} - 12.0 {\\left\\langle x - 14.5 \\right\\rangle}^{1}}{EA}\\right) {\\left\\langle x - 7 \\right\\rangle}^{0} - 0.6 \\left(- \\frac{14.5 C_{N} - EA u^{BD}_{x} - EA u^{CF}_{x} - 4.0 H^{BF} - 6.0 H^{CE} - 12.0 R_{h} - 1.5 R_{v} + 3.0 V^{BF} - 1.5 V^{CE} - 120.0}{EA} + \\frac{C_{N} x - EA u^{BD}_{x} {\\left\\langle x - 7.0 \\right\\rangle}^{0} - EA u^{CF}_{x} {\\left\\langle x - 12.0 \\right\\rangle}^{0} - 0.8 H^{BF} {\\left\\langle x - 2 \\right\\rangle}^{1} + 0.8 H^{BF} {\\left\\langle x - 7.0 \\right\\rangle}^{1} - 0.8 H^{CE} {\\left\\langle x - 4.5 \\right\\rangle}^{1} + 0.8 H^{CE} {\\left\\langle x - 12.0 \\right\\rangle}^{1} - R_{h} {\\left\\langle x \\right\\rangle}^{1} + 0.2 R_{h} {\\left\\langle x - 2 \\right\\rangle}^{1} + 0.6 R_{v} {\\left\\langle x - 2 \\right\\rangle}^{1} - 1.2 R_{v} {\\left\\langle x - 7 \\right\\rangle}^{1} + 0.6 V^{BF} {\\left\\langle x - 2 \\right\\rangle}^{1} - 1.2 V^{BF} {\\left\\langle x - 7 \\right\\rangle}^{1} + 0.6 V^{BF} {\\left\\langle x - 7.0 \\right\\rangle}^{1} + 0.6 V^{CE} {\\left\\langle x - 4.5 \\right\\rangle}^{1} - 1.2 V^{CE} {\\left\\langle x - 7 \\right\\rangle}^{1} + 0.6 V^{CE} {\\left\\langle x - 12.0 \\right\\rangle}^{1} - 12.0 {\\left\\langle x - 7 \\right\\rangle}^{1} - 12.0 {\\left\\langle x - 12 \\right\\rangle}^{1} - 12.0 {\\left\\langle x - 14.5 \\right\\rangle}^{1}}{EA}\\right) {\\left\\langle x - 14.5 \\right\\rangle}^{0} - 0.2 \\left(- C_{\\phi} x + 2 C_{\\phi} + \\frac{2 C_{M} + \\frac{4 C_{V}}{3} - \\frac{4 R_{v}}{3} - 2 T_{R}}{EI} - \\frac{\\frac{C_{M} x^{2}}{2} + \\frac{C_{V} x^{3}}{6} - EI \\phi^{BD} {\\left\\langle x - 7.0 \\right\\rangle}^{1} - EI \\phi^{CF} {\\left\\langle x - 12.0 \\right\\rangle}^{1} - EI u^{BD}_{z} {\\left\\langle x - 7.0 \\right\\rangle}^{0} - EI u^{CF}_{z} {\\left\\langle x - 12.0 \\right\\rangle}^{0} - 0.1 H^{BF} {\\left\\langle x - 2 \\right\\rangle}^{3} + 0.2 H^{BF} {\\left\\langle x - 7 \\right\\rangle}^{3} - 0.1 H^{BF} {\\left\\langle x - 7.0 \\right\\rangle}^{3} - 0.1 H^{CE} {\\left\\langle x - 4.5 \\right\\rangle}^{3} + 0.2 H^{CE} {\\left\\langle x - 7 \\right\\rangle}^{3} - 0.1 H^{CE} {\\left\\langle x - 12.0 \\right\\rangle}^{3} - 0.1 R_{h} {\\left\\langle x - 2 \\right\\rangle}^{3} + 0.2 R_{h} {\\left\\langle x - 7 \\right\\rangle}^{3} - \\frac{R_{v} {\\left\\langle x \\right\\rangle}^{3}}{6} + 0.0333333333333333 R_{v} {\\left\\langle x - 2 \\right\\rangle}^{3} - \\frac{T^{BF} {\\left\\langle x - 2 \\right\\rangle}^{2}}{2} + \\frac{T^{BF} {\\left\\langle x - 7.0 \\right\\rangle}^{2}}{2} - \\frac{T^{CE} {\\left\\langle x - 4.5 \\right\\rangle}^{2}}{2} + \\frac{T^{CE} {\\left\\langle x - 12.0 \\right\\rangle}^{2}}{2} - \\frac{T_{R} {\\left\\langle x \\right\\rangle}^{2}}{2} - 0.133333333333333 V^{BF} {\\left\\langle x - 2 \\right\\rangle}^{3} + 0.133333333333333 V^{BF} {\\left\\langle x - 7.0 \\right\\rangle}^{3} - 0.133333333333333 V^{CE} {\\left\\langle x - 4.5 \\right\\rangle}^{3} + 0.133333333333333 V^{CE} {\\left\\langle x - 12.0 \\right\\rangle}^{3} - 2.66666666666667 {\\left\\langle x - 7 \\right\\rangle}^{3} - 2.66666666666667 {\\left\\langle x - 12 \\right\\rangle}^{3} - 2.66666666666667 {\\left\\langle x - 14.5 \\right\\rangle}^{3}}{EI}\\right) {\\left\\langle x - 2 \\right\\rangle}^{0} - 0.8 \\left(- C_{\\phi} x + 14.5 C_{\\phi} + \\frac{105.125 C_{M} + 508.104166666667 C_{V} - 7.5 EI \\phi^{BD} - 2.5 EI \\phi^{CF} - EI u^{BD}_{z} - EI u^{CF}_{z} - 153.125 H^{BF} - 17.1875 H^{CE} - 110.9375 R_{h} - 443.0 R_{v} - 50.0 T^{BF} - 46.875 T^{CE} - 105.125 T_{R} - 204.166666666667 V^{BF} - 131.25 V^{CE} - 1166.66666666667}{EI} - \\frac{\\frac{C_{M} x^{2}}{2} + \\frac{C_{V} x^{3}}{6} - EI \\phi^{BD} {\\left\\langle x - 7.0 \\right\\rangle}^{1} - EI \\phi^{CF} {\\left\\langle x - 12.0 \\right\\rangle}^{1} - EI u^{BD}_{z} {\\left\\langle x - 7.0 \\right\\rangle}^{0} - EI u^{CF}_{z} {\\left\\langle x - 12.0 \\right\\rangle}^{0} - 0.1 H^{BF} {\\left\\langle x - 2 \\right\\rangle}^{3} + 0.2 H^{BF} {\\left\\langle x - 7 \\right\\rangle}^{3} - 0.1 H^{BF} {\\left\\langle x - 7.0 \\right\\rangle}^{3} - 0.1 H^{CE} {\\left\\langle x - 4.5 \\right\\rangle}^{3} + 0.2 H^{CE} {\\left\\langle x - 7 \\right\\rangle}^{3} - 0.1 H^{CE} {\\left\\langle x - 12.0 \\right\\rangle}^{3} - 0.1 R_{h} {\\left\\langle x - 2 \\right\\rangle}^{3} + 0.2 R_{h} {\\left\\langle x - 7 \\right\\rangle}^{3} - \\frac{R_{v} {\\left\\langle x \\right\\rangle}^{3}}{6} + 0.0333333333333333 R_{v} {\\left\\langle x - 2 \\right\\rangle}^{3} - \\frac{T^{BF} {\\left\\langle x - 2 \\right\\rangle}^{2}}{2} + \\frac{T^{BF} {\\left\\langle x - 7.0 \\right\\rangle}^{2}}{2} - \\frac{T^{CE} {\\left\\langle x - 4.5 \\right\\rangle}^{2}}{2} + \\frac{T^{CE} {\\left\\langle x - 12.0 \\right\\rangle}^{2}}{2} - \\frac{T_{R} {\\left\\langle x \\right\\rangle}^{2}}{2} - 0.133333333333333 V^{BF} {\\left\\langle x - 2 \\right\\rangle}^{3} + 0.133333333333333 V^{BF} {\\left\\langle x - 7.0 \\right\\rangle}^{3} - 0.133333333333333 V^{CE} {\\left\\langle x - 4.5 \\right\\rangle}^{3} + 0.133333333333333 V^{CE} {\\left\\langle x - 12.0 \\right\\rangle}^{3} - 2.66666666666667 {\\left\\langle x - 7 \\right\\rangle}^{3} - 2.66666666666667 {\\left\\langle x - 12 \\right\\rangle}^{3} - 2.66666666666667 {\\left\\langle x - 14.5 \\right\\rangle}^{3}}{EI}\\right) {\\left\\langle x - 14.5 \\right\\rangle}^{0}$"
      ],
      "text/plain": [
       "C_uz + (-C_phi*x - (C_M*x**2/2 + C_V*x**3/6 - EI*phi^BD*SingularityFunction(x, 7.0, 1) - EI*phi^CF*SingularityFunction(x, 12.0, 1) - EI*u_z^BD*SingularityFunction(x, 7.0, 0) - EI*u_z^CF*SingularityFunction(x, 12.0, 0) - 0.1*H^BF*SingularityFunction(x, 2, 3) + 0.2*H^BF*SingularityFunction(x, 7, 3) - 0.1*H^BF*SingularityFunction(x, 7.0, 3) - 0.1*H^CE*SingularityFunction(x, 4.5, 3) + 0.2*H^CE*SingularityFunction(x, 7, 3) - 0.1*H^CE*SingularityFunction(x, 12.0, 3) - 0.1*R_h*SingularityFunction(x, 2, 3) + 0.2*R_h*SingularityFunction(x, 7, 3) - R_v*SingularityFunction(x, 0, 3)/6 + 0.0333333333333333*R_v*SingularityFunction(x, 2, 3) - T^BF*SingularityFunction(x, 2, 2)/2 + T^BF*SingularityFunction(x, 7.0, 2)/2 - T^CE*SingularityFunction(x, 4.5, 2)/2 + T^CE*SingularityFunction(x, 12.0, 2)/2 - T_R*SingularityFunction(x, 0, 2)/2 - 0.133333333333333*V^BF*SingularityFunction(x, 2, 3) + 0.133333333333333*V^BF*SingularityFunction(x, 7.0, 3) - 0.133333333333333*V^CE*SingularityFunction(x, 4.5, 3) + 0.133333333333333*V^CE*SingularityFunction(x, 12.0, 3) - 2.66666666666667*SingularityFunction(x, 7, 3) - 2.66666666666667*SingularityFunction(x, 12, 3) - 2.66666666666667*SingularityFunction(x, 14.5, 3))/EI)*SingularityFunction(x, 0, 0) - 0.6*(-(2*C_N - 2*R_h)/EA + (C_N*x - EA*u_x^BD*SingularityFunction(x, 7.0, 0) - EA*u_x^CF*SingularityFunction(x, 12.0, 0) - 0.8*H^BF*SingularityFunction(x, 2, 1) + 0.8*H^BF*SingularityFunction(x, 7.0, 1) - 0.8*H^CE*SingularityFunction(x, 4.5, 1) + 0.8*H^CE*SingularityFunction(x, 12.0, 1) - R_h*SingularityFunction(x, 0, 1) + 0.2*R_h*SingularityFunction(x, 2, 1) + 0.6*R_v*SingularityFunction(x, 2, 1) - 1.2*R_v*SingularityFunction(x, 7, 1) + 0.6*V^BF*SingularityFunction(x, 2, 1) - 1.2*V^BF*SingularityFunction(x, 7, 1) + 0.6*V^BF*SingularityFunction(x, 7.0, 1) + 0.6*V^CE*SingularityFunction(x, 4.5, 1) - 1.2*V^CE*SingularityFunction(x, 7, 1) + 0.6*V^CE*SingularityFunction(x, 12.0, 1) - 12.0*SingularityFunction(x, 7, 1) - 12.0*SingularityFunction(x, 12, 1) - 12.0*SingularityFunction(x, 14.5, 1))/EA)*SingularityFunction(x, 2, 0) + 1.2*(-(7*C_N - 4.0*H^BF - 2.0*H^CE - 6.0*R_h + 3.0*R_v + 3.0*V^BF + 1.5*V^CE)/EA + (C_N*x - EA*u_x^BD*SingularityFunction(x, 7.0, 0) - EA*u_x^CF*SingularityFunction(x, 12.0, 0) - 0.8*H^BF*SingularityFunction(x, 2, 1) + 0.8*H^BF*SingularityFunction(x, 7.0, 1) - 0.8*H^CE*SingularityFunction(x, 4.5, 1) + 0.8*H^CE*SingularityFunction(x, 12.0, 1) - R_h*SingularityFunction(x, 0, 1) + 0.2*R_h*SingularityFunction(x, 2, 1) + 0.6*R_v*SingularityFunction(x, 2, 1) - 1.2*R_v*SingularityFunction(x, 7, 1) + 0.6*V^BF*SingularityFunction(x, 2, 1) - 1.2*V^BF*SingularityFunction(x, 7, 1) + 0.6*V^BF*SingularityFunction(x, 7.0, 1) + 0.6*V^CE*SingularityFunction(x, 4.5, 1) - 1.2*V^CE*SingularityFunction(x, 7, 1) + 0.6*V^CE*SingularityFunction(x, 12.0, 1) - 12.0*SingularityFunction(x, 7, 1) - 12.0*SingularityFunction(x, 12, 1) - 12.0*SingularityFunction(x, 14.5, 1))/EA)*SingularityFunction(x, 7, 0) - 0.6*(-(14.5*C_N - EA*u_x^BD - EA*u_x^CF - 4.0*H^BF - 6.0*H^CE - 12.0*R_h - 1.5*R_v + 3.0*V^BF - 1.5*V^CE - 120.0)/EA + (C_N*x - EA*u_x^BD*SingularityFunction(x, 7.0, 0) - EA*u_x^CF*SingularityFunction(x, 12.0, 0) - 0.8*H^BF*SingularityFunction(x, 2, 1) + 0.8*H^BF*SingularityFunction(x, 7.0, 1) - 0.8*H^CE*SingularityFunction(x, 4.5, 1) + 0.8*H^CE*SingularityFunction(x, 12.0, 1) - R_h*SingularityFunction(x, 0, 1) + 0.2*R_h*SingularityFunction(x, 2, 1) + 0.6*R_v*SingularityFunction(x, 2, 1) - 1.2*R_v*SingularityFunction(x, 7, 1) + 0.6*V^BF*SingularityFunction(x, 2, 1) - 1.2*V^BF*SingularityFunction(x, 7, 1) + 0.6*V^BF*SingularityFunction(x, 7.0, 1) + 0.6*V^CE*SingularityFunction(x, 4.5, 1) - 1.2*V^CE*SingularityFunction(x, 7, 1) + 0.6*V^CE*SingularityFunction(x, 12.0, 1) - 12.0*SingularityFunction(x, 7, 1) - 12.0*SingularityFunction(x, 12, 1) - 12.0*SingularityFunction(x, 14.5, 1))/EA)*SingularityFunction(x, 14.5, 0) - 0.2*(-C_phi*x + 2*C_phi + (2*C_M + 4*C_V/3 - 4*R_v/3 - 2*T_R)/EI - (C_M*x**2/2 + C_V*x**3/6 - EI*phi^BD*SingularityFunction(x, 7.0, 1) - EI*phi^CF*SingularityFunction(x, 12.0, 1) - EI*u_z^BD*SingularityFunction(x, 7.0, 0) - EI*u_z^CF*SingularityFunction(x, 12.0, 0) - 0.1*H^BF*SingularityFunction(x, 2, 3) + 0.2*H^BF*SingularityFunction(x, 7, 3) - 0.1*H^BF*SingularityFunction(x, 7.0, 3) - 0.1*H^CE*SingularityFunction(x, 4.5, 3) + 0.2*H^CE*SingularityFunction(x, 7, 3) - 0.1*H^CE*SingularityFunction(x, 12.0, 3) - 0.1*R_h*SingularityFunction(x, 2, 3) + 0.2*R_h*SingularityFunction(x, 7, 3) - R_v*SingularityFunction(x, 0, 3)/6 + 0.0333333333333333*R_v*SingularityFunction(x, 2, 3) - T^BF*SingularityFunction(x, 2, 2)/2 + T^BF*SingularityFunction(x, 7.0, 2)/2 - T^CE*SingularityFunction(x, 4.5, 2)/2 + T^CE*SingularityFunction(x, 12.0, 2)/2 - T_R*SingularityFunction(x, 0, 2)/2 - 0.133333333333333*V^BF*SingularityFunction(x, 2, 3) + 0.133333333333333*V^BF*SingularityFunction(x, 7.0, 3) - 0.133333333333333*V^CE*SingularityFunction(x, 4.5, 3) + 0.133333333333333*V^CE*SingularityFunction(x, 12.0, 3) - 2.66666666666667*SingularityFunction(x, 7, 3) - 2.66666666666667*SingularityFunction(x, 12, 3) - 2.66666666666667*SingularityFunction(x, 14.5, 3))/EI)*SingularityFunction(x, 2, 0) - 0.8*(-C_phi*x + 14.5*C_phi + (105.125*C_M + 508.104166666667*C_V - 7.5*EI*phi^BD - 2.5*EI*phi^CF - EI*u_z^BD - EI*u_z^CF - 153.125*H^BF - 17.1875*H^CE - 110.9375*R_h - 443.0*R_v - 50.0*T^BF - 46.875*T^CE - 105.125*T_R - 204.166666666667*V^BF - 131.25*V^CE - 1166.66666666667)/EI - (C_M*x**2/2 + C_V*x**3/6 - EI*phi^BD*SingularityFunction(x, 7.0, 1) - EI*phi^CF*SingularityFunction(x, 12.0, 1) - EI*u_z^BD*SingularityFunction(x, 7.0, 0) - EI*u_z^CF*SingularityFunction(x, 12.0, 0) - 0.1*H^BF*SingularityFunction(x, 2, 3) + 0.2*H^BF*SingularityFunction(x, 7, 3) - 0.1*H^BF*SingularityFunction(x, 7.0, 3) - 0.1*H^CE*SingularityFunction(x, 4.5, 3) + 0.2*H^CE*SingularityFunction(x, 7, 3) - 0.1*H^CE*SingularityFunction(x, 12.0, 3) - 0.1*R_h*SingularityFunction(x, 2, 3) + 0.2*R_h*SingularityFunction(x, 7, 3) - R_v*SingularityFunction(x, 0, 3)/6 + 0.0333333333333333*R_v*SingularityFunction(x, 2, 3) - T^BF*SingularityFunction(x, 2, 2)/2 + T^BF*SingularityFunction(x, 7.0, 2)/2 - T^CE*SingularityFunction(x, 4.5, 2)/2 + T^CE*SingularityFunction(x, 12.0, 2)/2 - T_R*SingularityFunction(x, 0, 2)/2 - 0.133333333333333*V^BF*SingularityFunction(x, 2, 3) + 0.133333333333333*V^BF*SingularityFunction(x, 7.0, 3) - 0.133333333333333*V^CE*SingularityFunction(x, 4.5, 3) + 0.133333333333333*V^CE*SingularityFunction(x, 12.0, 3) - 2.66666666666667*SingularityFunction(x, 7, 3) - 2.66666666666667*SingularityFunction(x, 12, 3) - 2.66666666666667*SingularityFunction(x, 14.5, 3))/EI)*SingularityFunction(x, 14.5, 0)"
      ]
     },
     "metadata": {},
     "output_type": "display_data"
    },
    {
     "data": {
      "text/latex": [
       "$\\displaystyle {u_h}=$"
      ],
      "text/plain": [
       "{u_h}="
      ]
     },
     "metadata": {},
     "output_type": "display_data"
    },
    {
     "data": {
      "text/latex": [
       "$\\displaystyle C_{ux} - 0.2 \\left(- \\frac{2 C_{N} - 2 R_{h}}{EA} + \\frac{C_{N} x - EA u^{BD}_{x} {\\left\\langle x - 7.0 \\right\\rangle}^{0} - EA u^{CF}_{x} {\\left\\langle x - 12.0 \\right\\rangle}^{0} - 0.8 H^{BF} {\\left\\langle x - 2 \\right\\rangle}^{1} + 0.8 H^{BF} {\\left\\langle x - 7.0 \\right\\rangle}^{1} - 0.8 H^{CE} {\\left\\langle x - 4.5 \\right\\rangle}^{1} + 0.8 H^{CE} {\\left\\langle x - 12.0 \\right\\rangle}^{1} - R_{h} {\\left\\langle x \\right\\rangle}^{1} + 0.2 R_{h} {\\left\\langle x - 2 \\right\\rangle}^{1} + 0.6 R_{v} {\\left\\langle x - 2 \\right\\rangle}^{1} - 1.2 R_{v} {\\left\\langle x - 7 \\right\\rangle}^{1} + 0.6 V^{BF} {\\left\\langle x - 2 \\right\\rangle}^{1} - 1.2 V^{BF} {\\left\\langle x - 7 \\right\\rangle}^{1} + 0.6 V^{BF} {\\left\\langle x - 7.0 \\right\\rangle}^{1} + 0.6 V^{CE} {\\left\\langle x - 4.5 \\right\\rangle}^{1} - 1.2 V^{CE} {\\left\\langle x - 7 \\right\\rangle}^{1} + 0.6 V^{CE} {\\left\\langle x - 12.0 \\right\\rangle}^{1} - 12.0 {\\left\\langle x - 7 \\right\\rangle}^{1} - 12.0 {\\left\\langle x - 12 \\right\\rangle}^{1} - 12.0 {\\left\\langle x - 14.5 \\right\\rangle}^{1}}{EA}\\right) {\\left\\langle x - 2 \\right\\rangle}^{0} - 0.8 \\left(- \\frac{14.5 C_{N} - EA u^{BD}_{x} - EA u^{CF}_{x} - 4.0 H^{BF} - 6.0 H^{CE} - 12.0 R_{h} - 1.5 R_{v} + 3.0 V^{BF} - 1.5 V^{CE} - 120.0}{EA} + \\frac{C_{N} x - EA u^{BD}_{x} {\\left\\langle x - 7.0 \\right\\rangle}^{0} - EA u^{CF}_{x} {\\left\\langle x - 12.0 \\right\\rangle}^{0} - 0.8 H^{BF} {\\left\\langle x - 2 \\right\\rangle}^{1} + 0.8 H^{BF} {\\left\\langle x - 7.0 \\right\\rangle}^{1} - 0.8 H^{CE} {\\left\\langle x - 4.5 \\right\\rangle}^{1} + 0.8 H^{CE} {\\left\\langle x - 12.0 \\right\\rangle}^{1} - R_{h} {\\left\\langle x \\right\\rangle}^{1} + 0.2 R_{h} {\\left\\langle x - 2 \\right\\rangle}^{1} + 0.6 R_{v} {\\left\\langle x - 2 \\right\\rangle}^{1} - 1.2 R_{v} {\\left\\langle x - 7 \\right\\rangle}^{1} + 0.6 V^{BF} {\\left\\langle x - 2 \\right\\rangle}^{1} - 1.2 V^{BF} {\\left\\langle x - 7 \\right\\rangle}^{1} + 0.6 V^{BF} {\\left\\langle x - 7.0 \\right\\rangle}^{1} + 0.6 V^{CE} {\\left\\langle x - 4.5 \\right\\rangle}^{1} - 1.2 V^{CE} {\\left\\langle x - 7 \\right\\rangle}^{1} + 0.6 V^{CE} {\\left\\langle x - 12.0 \\right\\rangle}^{1} - 12.0 {\\left\\langle x - 7 \\right\\rangle}^{1} - 12.0 {\\left\\langle x - 12 \\right\\rangle}^{1} - 12.0 {\\left\\langle x - 14.5 \\right\\rangle}^{1}}{EA}\\right) {\\left\\langle x - 14.5 \\right\\rangle}^{0} + 0.6 \\left(- C_{\\phi} x + 2 C_{\\phi} + \\frac{2 C_{M} + \\frac{4 C_{V}}{3} - \\frac{4 R_{v}}{3} - 2 T_{R}}{EI} - \\frac{\\frac{C_{M} x^{2}}{2} + \\frac{C_{V} x^{3}}{6} - EI \\phi^{BD} {\\left\\langle x - 7.0 \\right\\rangle}^{1} - EI \\phi^{CF} {\\left\\langle x - 12.0 \\right\\rangle}^{1} - EI u^{BD}_{z} {\\left\\langle x - 7.0 \\right\\rangle}^{0} - EI u^{CF}_{z} {\\left\\langle x - 12.0 \\right\\rangle}^{0} - 0.1 H^{BF} {\\left\\langle x - 2 \\right\\rangle}^{3} + 0.2 H^{BF} {\\left\\langle x - 7 \\right\\rangle}^{3} - 0.1 H^{BF} {\\left\\langle x - 7.0 \\right\\rangle}^{3} - 0.1 H^{CE} {\\left\\langle x - 4.5 \\right\\rangle}^{3} + 0.2 H^{CE} {\\left\\langle x - 7 \\right\\rangle}^{3} - 0.1 H^{CE} {\\left\\langle x - 12.0 \\right\\rangle}^{3} - 0.1 R_{h} {\\left\\langle x - 2 \\right\\rangle}^{3} + 0.2 R_{h} {\\left\\langle x - 7 \\right\\rangle}^{3} - \\frac{R_{v} {\\left\\langle x \\right\\rangle}^{3}}{6} + 0.0333333333333333 R_{v} {\\left\\langle x - 2 \\right\\rangle}^{3} - \\frac{T^{BF} {\\left\\langle x - 2 \\right\\rangle}^{2}}{2} + \\frac{T^{BF} {\\left\\langle x - 7.0 \\right\\rangle}^{2}}{2} - \\frac{T^{CE} {\\left\\langle x - 4.5 \\right\\rangle}^{2}}{2} + \\frac{T^{CE} {\\left\\langle x - 12.0 \\right\\rangle}^{2}}{2} - \\frac{T_{R} {\\left\\langle x \\right\\rangle}^{2}}{2} - 0.133333333333333 V^{BF} {\\left\\langle x - 2 \\right\\rangle}^{3} + 0.133333333333333 V^{BF} {\\left\\langle x - 7.0 \\right\\rangle}^{3} - 0.133333333333333 V^{CE} {\\left\\langle x - 4.5 \\right\\rangle}^{3} + 0.133333333333333 V^{CE} {\\left\\langle x - 12.0 \\right\\rangle}^{3} - 2.66666666666667 {\\left\\langle x - 7 \\right\\rangle}^{3} - 2.66666666666667 {\\left\\langle x - 12 \\right\\rangle}^{3} - 2.66666666666667 {\\left\\langle x - 14.5 \\right\\rangle}^{3}}{EI}\\right) {\\left\\langle x - 2 \\right\\rangle}^{0} - 1.2 \\left(- C_{\\phi} x + 7 C_{\\phi} + \\frac{\\frac{49 C_{M}}{2} + \\frac{343 C_{V}}{6} - 12.5 H^{BF} - 1.5625 H^{CE} - 12.5 R_{h} - 53.0 R_{v} - \\frac{25 T^{BF}}{2} - 3.125 T^{CE} - \\frac{49 T_{R}}{2} - 16.6666666666667 V^{BF} - 2.08333333333333 V^{CE}}{EI} - \\frac{\\frac{C_{M} x^{2}}{2} + \\frac{C_{V} x^{3}}{6} - EI \\phi^{BD} {\\left\\langle x - 7.0 \\right\\rangle}^{1} - EI \\phi^{CF} {\\left\\langle x - 12.0 \\right\\rangle}^{1} - EI u^{BD}_{z} {\\left\\langle x - 7.0 \\right\\rangle}^{0} - EI u^{CF}_{z} {\\left\\langle x - 12.0 \\right\\rangle}^{0} - 0.1 H^{BF} {\\left\\langle x - 2 \\right\\rangle}^{3} + 0.2 H^{BF} {\\left\\langle x - 7 \\right\\rangle}^{3} - 0.1 H^{BF} {\\left\\langle x - 7.0 \\right\\rangle}^{3} - 0.1 H^{CE} {\\left\\langle x - 4.5 \\right\\rangle}^{3} + 0.2 H^{CE} {\\left\\langle x - 7 \\right\\rangle}^{3} - 0.1 H^{CE} {\\left\\langle x - 12.0 \\right\\rangle}^{3} - 0.1 R_{h} {\\left\\langle x - 2 \\right\\rangle}^{3} + 0.2 R_{h} {\\left\\langle x - 7 \\right\\rangle}^{3} - \\frac{R_{v} {\\left\\langle x \\right\\rangle}^{3}}{6} + 0.0333333333333333 R_{v} {\\left\\langle x - 2 \\right\\rangle}^{3} - \\frac{T^{BF} {\\left\\langle x - 2 \\right\\rangle}^{2}}{2} + \\frac{T^{BF} {\\left\\langle x - 7.0 \\right\\rangle}^{2}}{2} - \\frac{T^{CE} {\\left\\langle x - 4.5 \\right\\rangle}^{2}}{2} + \\frac{T^{CE} {\\left\\langle x - 12.0 \\right\\rangle}^{2}}{2} - \\frac{T_{R} {\\left\\langle x \\right\\rangle}^{2}}{2} - 0.133333333333333 V^{BF} {\\left\\langle x - 2 \\right\\rangle}^{3} + 0.133333333333333 V^{BF} {\\left\\langle x - 7.0 \\right\\rangle}^{3} - 0.133333333333333 V^{CE} {\\left\\langle x - 4.5 \\right\\rangle}^{3} + 0.133333333333333 V^{CE} {\\left\\langle x - 12.0 \\right\\rangle}^{3} - 2.66666666666667 {\\left\\langle x - 7 \\right\\rangle}^{3} - 2.66666666666667 {\\left\\langle x - 12 \\right\\rangle}^{3} - 2.66666666666667 {\\left\\langle x - 14.5 \\right\\rangle}^{3}}{EI}\\right) {\\left\\langle x - 7 \\right\\rangle}^{0} + 0.6 \\left(- C_{\\phi} x + 14.5 C_{\\phi} + \\frac{105.125 C_{M} + 508.104166666667 C_{V} - 7.5 EI \\phi^{BD} - 2.5 EI \\phi^{CF} - EI u^{BD}_{z} - EI u^{CF}_{z} - 153.125 H^{BF} - 17.1875 H^{CE} - 110.9375 R_{h} - 443.0 R_{v} - 50.0 T^{BF} - 46.875 T^{CE} - 105.125 T_{R} - 204.166666666667 V^{BF} - 131.25 V^{CE} - 1166.66666666667}{EI} - \\frac{\\frac{C_{M} x^{2}}{2} + \\frac{C_{V} x^{3}}{6} - EI \\phi^{BD} {\\left\\langle x - 7.0 \\right\\rangle}^{1} - EI \\phi^{CF} {\\left\\langle x - 12.0 \\right\\rangle}^{1} - EI u^{BD}_{z} {\\left\\langle x - 7.0 \\right\\rangle}^{0} - EI u^{CF}_{z} {\\left\\langle x - 12.0 \\right\\rangle}^{0} - 0.1 H^{BF} {\\left\\langle x - 2 \\right\\rangle}^{3} + 0.2 H^{BF} {\\left\\langle x - 7 \\right\\rangle}^{3} - 0.1 H^{BF} {\\left\\langle x - 7.0 \\right\\rangle}^{3} - 0.1 H^{CE} {\\left\\langle x - 4.5 \\right\\rangle}^{3} + 0.2 H^{CE} {\\left\\langle x - 7 \\right\\rangle}^{3} - 0.1 H^{CE} {\\left\\langle x - 12.0 \\right\\rangle}^{3} - 0.1 R_{h} {\\left\\langle x - 2 \\right\\rangle}^{3} + 0.2 R_{h} {\\left\\langle x - 7 \\right\\rangle}^{3} - \\frac{R_{v} {\\left\\langle x \\right\\rangle}^{3}}{6} + 0.0333333333333333 R_{v} {\\left\\langle x - 2 \\right\\rangle}^{3} - \\frac{T^{BF} {\\left\\langle x - 2 \\right\\rangle}^{2}}{2} + \\frac{T^{BF} {\\left\\langle x - 7.0 \\right\\rangle}^{2}}{2} - \\frac{T^{CE} {\\left\\langle x - 4.5 \\right\\rangle}^{2}}{2} + \\frac{T^{CE} {\\left\\langle x - 12.0 \\right\\rangle}^{2}}{2} - \\frac{T_{R} {\\left\\langle x \\right\\rangle}^{2}}{2} - 0.133333333333333 V^{BF} {\\left\\langle x - 2 \\right\\rangle}^{3} + 0.133333333333333 V^{BF} {\\left\\langle x - 7.0 \\right\\rangle}^{3} - 0.133333333333333 V^{CE} {\\left\\langle x - 4.5 \\right\\rangle}^{3} + 0.133333333333333 V^{CE} {\\left\\langle x - 12.0 \\right\\rangle}^{3} - 2.66666666666667 {\\left\\langle x - 7 \\right\\rangle}^{3} - 2.66666666666667 {\\left\\langle x - 12 \\right\\rangle}^{3} - 2.66666666666667 {\\left\\langle x - 14.5 \\right\\rangle}^{3}}{EI}\\right) {\\left\\langle x - 14.5 \\right\\rangle}^{0} + \\frac{\\left(C_{N} x - EA u^{BD}_{x} {\\left\\langle x - 7.0 \\right\\rangle}^{0} - EA u^{CF}_{x} {\\left\\langle x - 12.0 \\right\\rangle}^{0} - 0.8 H^{BF} {\\left\\langle x - 2 \\right\\rangle}^{1} + 0.8 H^{BF} {\\left\\langle x - 7.0 \\right\\rangle}^{1} - 0.8 H^{CE} {\\left\\langle x - 4.5 \\right\\rangle}^{1} + 0.8 H^{CE} {\\left\\langle x - 12.0 \\right\\rangle}^{1} - R_{h} {\\left\\langle x \\right\\rangle}^{1} + 0.2 R_{h} {\\left\\langle x - 2 \\right\\rangle}^{1} + 0.6 R_{v} {\\left\\langle x - 2 \\right\\rangle}^{1} - 1.2 R_{v} {\\left\\langle x - 7 \\right\\rangle}^{1} + 0.6 V^{BF} {\\left\\langle x - 2 \\right\\rangle}^{1} - 1.2 V^{BF} {\\left\\langle x - 7 \\right\\rangle}^{1} + 0.6 V^{BF} {\\left\\langle x - 7.0 \\right\\rangle}^{1} + 0.6 V^{CE} {\\left\\langle x - 4.5 \\right\\rangle}^{1} - 1.2 V^{CE} {\\left\\langle x - 7 \\right\\rangle}^{1} + 0.6 V^{CE} {\\left\\langle x - 12.0 \\right\\rangle}^{1} - 12.0 {\\left\\langle x - 7 \\right\\rangle}^{1} - 12.0 {\\left\\langle x - 12 \\right\\rangle}^{1} - 12.0 {\\left\\langle x - 14.5 \\right\\rangle}^{1}\\right) {\\left\\langle x \\right\\rangle}^{0}}{EA}$"
      ],
      "text/plain": [
       "C_ux - 0.2*(-(2*C_N - 2*R_h)/EA + (C_N*x - EA*u_x^BD*SingularityFunction(x, 7.0, 0) - EA*u_x^CF*SingularityFunction(x, 12.0, 0) - 0.8*H^BF*SingularityFunction(x, 2, 1) + 0.8*H^BF*SingularityFunction(x, 7.0, 1) - 0.8*H^CE*SingularityFunction(x, 4.5, 1) + 0.8*H^CE*SingularityFunction(x, 12.0, 1) - R_h*SingularityFunction(x, 0, 1) + 0.2*R_h*SingularityFunction(x, 2, 1) + 0.6*R_v*SingularityFunction(x, 2, 1) - 1.2*R_v*SingularityFunction(x, 7, 1) + 0.6*V^BF*SingularityFunction(x, 2, 1) - 1.2*V^BF*SingularityFunction(x, 7, 1) + 0.6*V^BF*SingularityFunction(x, 7.0, 1) + 0.6*V^CE*SingularityFunction(x, 4.5, 1) - 1.2*V^CE*SingularityFunction(x, 7, 1) + 0.6*V^CE*SingularityFunction(x, 12.0, 1) - 12.0*SingularityFunction(x, 7, 1) - 12.0*SingularityFunction(x, 12, 1) - 12.0*SingularityFunction(x, 14.5, 1))/EA)*SingularityFunction(x, 2, 0) - 0.8*(-(14.5*C_N - EA*u_x^BD - EA*u_x^CF - 4.0*H^BF - 6.0*H^CE - 12.0*R_h - 1.5*R_v + 3.0*V^BF - 1.5*V^CE - 120.0)/EA + (C_N*x - EA*u_x^BD*SingularityFunction(x, 7.0, 0) - EA*u_x^CF*SingularityFunction(x, 12.0, 0) - 0.8*H^BF*SingularityFunction(x, 2, 1) + 0.8*H^BF*SingularityFunction(x, 7.0, 1) - 0.8*H^CE*SingularityFunction(x, 4.5, 1) + 0.8*H^CE*SingularityFunction(x, 12.0, 1) - R_h*SingularityFunction(x, 0, 1) + 0.2*R_h*SingularityFunction(x, 2, 1) + 0.6*R_v*SingularityFunction(x, 2, 1) - 1.2*R_v*SingularityFunction(x, 7, 1) + 0.6*V^BF*SingularityFunction(x, 2, 1) - 1.2*V^BF*SingularityFunction(x, 7, 1) + 0.6*V^BF*SingularityFunction(x, 7.0, 1) + 0.6*V^CE*SingularityFunction(x, 4.5, 1) - 1.2*V^CE*SingularityFunction(x, 7, 1) + 0.6*V^CE*SingularityFunction(x, 12.0, 1) - 12.0*SingularityFunction(x, 7, 1) - 12.0*SingularityFunction(x, 12, 1) - 12.0*SingularityFunction(x, 14.5, 1))/EA)*SingularityFunction(x, 14.5, 0) + 0.6*(-C_phi*x + 2*C_phi + (2*C_M + 4*C_V/3 - 4*R_v/3 - 2*T_R)/EI - (C_M*x**2/2 + C_V*x**3/6 - EI*phi^BD*SingularityFunction(x, 7.0, 1) - EI*phi^CF*SingularityFunction(x, 12.0, 1) - EI*u_z^BD*SingularityFunction(x, 7.0, 0) - EI*u_z^CF*SingularityFunction(x, 12.0, 0) - 0.1*H^BF*SingularityFunction(x, 2, 3) + 0.2*H^BF*SingularityFunction(x, 7, 3) - 0.1*H^BF*SingularityFunction(x, 7.0, 3) - 0.1*H^CE*SingularityFunction(x, 4.5, 3) + 0.2*H^CE*SingularityFunction(x, 7, 3) - 0.1*H^CE*SingularityFunction(x, 12.0, 3) - 0.1*R_h*SingularityFunction(x, 2, 3) + 0.2*R_h*SingularityFunction(x, 7, 3) - R_v*SingularityFunction(x, 0, 3)/6 + 0.0333333333333333*R_v*SingularityFunction(x, 2, 3) - T^BF*SingularityFunction(x, 2, 2)/2 + T^BF*SingularityFunction(x, 7.0, 2)/2 - T^CE*SingularityFunction(x, 4.5, 2)/2 + T^CE*SingularityFunction(x, 12.0, 2)/2 - T_R*SingularityFunction(x, 0, 2)/2 - 0.133333333333333*V^BF*SingularityFunction(x, 2, 3) + 0.133333333333333*V^BF*SingularityFunction(x, 7.0, 3) - 0.133333333333333*V^CE*SingularityFunction(x, 4.5, 3) + 0.133333333333333*V^CE*SingularityFunction(x, 12.0, 3) - 2.66666666666667*SingularityFunction(x, 7, 3) - 2.66666666666667*SingularityFunction(x, 12, 3) - 2.66666666666667*SingularityFunction(x, 14.5, 3))/EI)*SingularityFunction(x, 2, 0) - 1.2*(-C_phi*x + 7*C_phi + (49*C_M/2 + 343*C_V/6 - 12.5*H^BF - 1.5625*H^CE - 12.5*R_h - 53.0*R_v - 25*T^BF/2 - 3.125*T^CE - 49*T_R/2 - 16.6666666666667*V^BF - 2.08333333333333*V^CE)/EI - (C_M*x**2/2 + C_V*x**3/6 - EI*phi^BD*SingularityFunction(x, 7.0, 1) - EI*phi^CF*SingularityFunction(x, 12.0, 1) - EI*u_z^BD*SingularityFunction(x, 7.0, 0) - EI*u_z^CF*SingularityFunction(x, 12.0, 0) - 0.1*H^BF*SingularityFunction(x, 2, 3) + 0.2*H^BF*SingularityFunction(x, 7, 3) - 0.1*H^BF*SingularityFunction(x, 7.0, 3) - 0.1*H^CE*SingularityFunction(x, 4.5, 3) + 0.2*H^CE*SingularityFunction(x, 7, 3) - 0.1*H^CE*SingularityFunction(x, 12.0, 3) - 0.1*R_h*SingularityFunction(x, 2, 3) + 0.2*R_h*SingularityFunction(x, 7, 3) - R_v*SingularityFunction(x, 0, 3)/6 + 0.0333333333333333*R_v*SingularityFunction(x, 2, 3) - T^BF*SingularityFunction(x, 2, 2)/2 + T^BF*SingularityFunction(x, 7.0, 2)/2 - T^CE*SingularityFunction(x, 4.5, 2)/2 + T^CE*SingularityFunction(x, 12.0, 2)/2 - T_R*SingularityFunction(x, 0, 2)/2 - 0.133333333333333*V^BF*SingularityFunction(x, 2, 3) + 0.133333333333333*V^BF*SingularityFunction(x, 7.0, 3) - 0.133333333333333*V^CE*SingularityFunction(x, 4.5, 3) + 0.133333333333333*V^CE*SingularityFunction(x, 12.0, 3) - 2.66666666666667*SingularityFunction(x, 7, 3) - 2.66666666666667*SingularityFunction(x, 12, 3) - 2.66666666666667*SingularityFunction(x, 14.5, 3))/EI)*SingularityFunction(x, 7, 0) + 0.6*(-C_phi*x + 14.5*C_phi + (105.125*C_M + 508.104166666667*C_V - 7.5*EI*phi^BD - 2.5*EI*phi^CF - EI*u_z^BD - EI*u_z^CF - 153.125*H^BF - 17.1875*H^CE - 110.9375*R_h - 443.0*R_v - 50.0*T^BF - 46.875*T^CE - 105.125*T_R - 204.166666666667*V^BF - 131.25*V^CE - 1166.66666666667)/EI - (C_M*x**2/2 + C_V*x**3/6 - EI*phi^BD*SingularityFunction(x, 7.0, 1) - EI*phi^CF*SingularityFunction(x, 12.0, 1) - EI*u_z^BD*SingularityFunction(x, 7.0, 0) - EI*u_z^CF*SingularityFunction(x, 12.0, 0) - 0.1*H^BF*SingularityFunction(x, 2, 3) + 0.2*H^BF*SingularityFunction(x, 7, 3) - 0.1*H^BF*SingularityFunction(x, 7.0, 3) - 0.1*H^CE*SingularityFunction(x, 4.5, 3) + 0.2*H^CE*SingularityFunction(x, 7, 3) - 0.1*H^CE*SingularityFunction(x, 12.0, 3) - 0.1*R_h*SingularityFunction(x, 2, 3) + 0.2*R_h*SingularityFunction(x, 7, 3) - R_v*SingularityFunction(x, 0, 3)/6 + 0.0333333333333333*R_v*SingularityFunction(x, 2, 3) - T^BF*SingularityFunction(x, 2, 2)/2 + T^BF*SingularityFunction(x, 7.0, 2)/2 - T^CE*SingularityFunction(x, 4.5, 2)/2 + T^CE*SingularityFunction(x, 12.0, 2)/2 - T_R*SingularityFunction(x, 0, 2)/2 - 0.133333333333333*V^BF*SingularityFunction(x, 2, 3) + 0.133333333333333*V^BF*SingularityFunction(x, 7.0, 3) - 0.133333333333333*V^CE*SingularityFunction(x, 4.5, 3) + 0.133333333333333*V^CE*SingularityFunction(x, 12.0, 3) - 2.66666666666667*SingularityFunction(x, 7, 3) - 2.66666666666667*SingularityFunction(x, 12, 3) - 2.66666666666667*SingularityFunction(x, 14.5, 3))/EI)*SingularityFunction(x, 14.5, 0) + (C_N*x - EA*u_x^BD*SingularityFunction(x, 7.0, 0) - EA*u_x^CF*SingularityFunction(x, 12.0, 0) - 0.8*H^BF*SingularityFunction(x, 2, 1) + 0.8*H^BF*SingularityFunction(x, 7.0, 1) - 0.8*H^CE*SingularityFunction(x, 4.5, 1) + 0.8*H^CE*SingularityFunction(x, 12.0, 1) - R_h*SingularityFunction(x, 0, 1) + 0.2*R_h*SingularityFunction(x, 2, 1) + 0.6*R_v*SingularityFunction(x, 2, 1) - 1.2*R_v*SingularityFunction(x, 7, 1) + 0.6*V^BF*SingularityFunction(x, 2, 1) - 1.2*V^BF*SingularityFunction(x, 7, 1) + 0.6*V^BF*SingularityFunction(x, 7.0, 1) + 0.6*V^CE*SingularityFunction(x, 4.5, 1) - 1.2*V^CE*SingularityFunction(x, 7, 1) + 0.6*V^CE*SingularityFunction(x, 12.0, 1) - 12.0*SingularityFunction(x, 7, 1) - 12.0*SingularityFunction(x, 12, 1) - 12.0*SingularityFunction(x, 14.5, 1))*SingularityFunction(x, 0, 0)/EA"
      ]
     },
     "metadata": {},
     "output_type": "display_data"
    }
   ],
   "source": [
    "V = -sym.integrate(qz.expand(), x) + CV\n",
    "M = sym.integrate(V, x) + CM\n",
    "kappa = M / EI\n",
    "phi = sym.integrate(kappa, x) + Cphi\n",
    "uz = -sym.integrate(phi, x) + Cuz\n",
    "\n",
    "N = -sym.integrate(qx.expand(), x) + CN\n",
    "epsilon = N / EA\n",
    "ux = sym.integrate(epsilon, x) + Cux\n",
    "\n",
    "uvz = uz.subs(x,0) * sym.cos(o0)\n",
    "uvx = -ux.subs(x,0) * sym.sin(o0)\n",
    "for i in range(len(oo)):\n",
    "    uvz += ((uz - uz.subs(x,aa[i])) * sym.SingularityFunction(x,aa[i],0) - (uz - uz.subs(x,aa[i+1])) * sym.SingularityFunction(x,aa[i+1],0)) * sym.cos(oo[i])\n",
    "    uvx += -((ux - ux.subs(x,aa[i])) * sym.SingularityFunction(x,aa[i],0) - (ux - ux.subs(x,aa[i+1])) * sym.SingularityFunction(x,aa[i+1],0)) * sym.sin(oo[i])\n",
    "uv = uvz + uvx\n",
    "\n",
    "uhz = uz.subs(x,0) * sym.sin(o0)\n",
    "uhx = ux.subs(x,0) * sym.cos(o0)\n",
    "for i in range(len(oo)):\n",
    "    uhz += ((uz - uz.subs(x,aa[i])) * sym.SingularityFunction(x,aa[i],0) - (uz - uz.subs(x,aa[i+1])) * sym.SingularityFunction(x,aa[i+1],0)) * sym.sin(oo[i])\n",
    "    uhx += ((ux - ux.subs(x,aa[i])) * sym.SingularityFunction(x,aa[i],0) - (ux - ux.subs(x,aa[i+1])) * sym.SingularityFunction(x,aa[i+1],0)) * sym.cos(oo[i])\n",
    "uh = uhz + uhx\n",
    "\n",
    "display(sym.symbols('{N}='), N)\n",
    "display(sym.symbols('{V}='), V)\n",
    "display(sym.symbols('{M}='), M)\n",
    "display(sym.symbols('{u_x}='), ux)\n",
    "display(sym.symbols('{\\phi}='), phi)\n",
    "display(sym.symbols('{u_z}='), uz)\n",
    "display(sym.symbols('{u_v}='), uv)\n",
    "display(sym.symbols('{u_h}='), uh)"
   ]
  },
  {
   "cell_type": "code",
   "execution_count": 6,
   "id": "b66d2ce6-b615-466b-8d6a-cdd98ae6291e",
   "metadata": {},
   "outputs": [],
   "source": [
    "# 3 reactiekrachten + 6 knoopkrachten + 6 vervormingssprongen + 6 integratieconstanten = 21 voorwaarden\n",
    "Eq1 = sym.Eq(N.subs(x,0-dx),0)\n",
    "Eq2 = sym.Eq(N.subs(x,a3),0)\n",
    "Eq3 = sym.Eq(N.subs(x,a4),0)\n",
    "Eq4 = sym.Eq(N.subs(x,a5),0)\n",
    "Eq5 = sym.Eq(V.subs(x,0-dx),0)\n",
    "Eq6 = sym.Eq(V.subs(x,a3),0)\n",
    "Eq7 = sym.Eq(V.subs(x,a4),0)\n",
    "Eq8 = sym.Eq(V.subs(x,a5),0)\n",
    "Eq9 = sym.Eq(M.subs(x,0-dx),0)\n",
    "Eq10 = sym.Eq(M.subs(x,a3),0)\n",
    "Eq11 = sym.Eq(M.subs(x,a4),0)\n",
    "Eq12 = sym.Eq(M.subs(x,a5),0)\n",
    "Eq13 = sym.Eq(phi.subs(x,0),0)\n",
    "Eq14 = sym.Eq(uv.subs(x,0),0)\n",
    "Eq15 = sym.Eq(uh.subs(x,0),0)\n",
    "Eq16 = sym.Eq(phi.subs(x,s1+dx)-phi.subs(x,a1),0)\n",
    "Eq17 = sym.Eq(phi.subs(x,s2+dx)-phi.subs(x,a2),0)\n",
    "Eq18 = sym.Eq(uv.subs(x,s1)-uv.subs(x,a1),0)\n",
    "Eq19 = sym.Eq(uv.subs(x,s2)-uv.subs(x,a2),0)\n",
    "Eq20 = sym.Eq(uh.subs(x,s1)-uh.subs(x,a1),0)\n",
    "Eq21 = sym.Eq(uh.subs(x,s2)-uh.subs(x,a2),0)"
   ]
  },
  {
   "cell_type": "code",
   "execution_count": 7,
   "id": "d96d4aa1-abb8-4778-a802-93d64a112a30",
   "metadata": {},
   "outputs": [
    {
     "data": {
      "text/plain": [
       "{C_M: 0.0,\n",
       " C_N: 0.0,\n",
       " C_V: 0.0,\n",
       " C_phi: 0.0,\n",
       " C_ux: 0.0,\n",
       " C_uz: 0.0,\n",
       " H^BF: 0.0,\n",
       " H^CE: 0.0,\n",
       " R_h: 0.0,\n",
       " R_v: -60.0000000000000,\n",
       " T^BF: -80.0000000000000,\n",
       " T^CE: -40.0000000000000,\n",
       " T_R: 360.000000000000,\n",
       " V^BF: 20.0000000000000,\n",
       " V^CE: 20.0000000000000,\n",
       " phi^BD: -350.0/EI,\n",
       " phi^CF: 100.0/EI,\n",
       " u_x^BD: 2.5e-27*(1.632e+30*EA - 1.008e+28*EI)/(EA*EI),\n",
       " u_x^CF: 1.0e-28*(-1.84e+31*EA + 7.68000000000002e+29*EI)/(EA*EI),\n",
       " u_z^BD: 7.96545955566226e-60*(-1.49395021302203e+62*EA - 1.08468317987482e+61*EI)/(EA*EI),\n",
       " u_z^CF: 8.75811540203011e-88*(-3.57382822253572e+90*EA + 6.57675736798906e+88*EI)/(EA*EI)}"
      ]
     },
     "metadata": {},
     "output_type": "display_data"
    }
   ],
   "source": [
    "sol = sym.solve((Eq1,Eq2,Eq3,Eq4,Eq5,Eq6,Eq7,Eq8,Eq9,Eq10,Eq11,Eq12,Eq13,Eq14,Eq15,Eq16,Eq17,Eq18,Eq19,Eq20,Eq21),(Rv,Rh,Tr,VBF,HBF,TBF,VCE,HCE,TCE,phiBD,uzBD,uxBD,phiCF,uzCF,uxCF,CN,CV,CM,Cphi,Cuz,Cux))\n",
    "display(sol)"
   ]
  },
  {
   "cell_type": "code",
   "execution_count": 8,
   "id": "5ec30373-3db9-4fee-b3fa-e265e04350c1",
   "metadata": {},
   "outputs": [
    {
     "data": {
      "text/plain": [
       "'R_v = -60.00'"
      ]
     },
     "metadata": {},
     "output_type": "display_data"
    },
    {
     "data": {
      "text/plain": [
       "'R_h = 0.00'"
      ]
     },
     "metadata": {},
     "output_type": "display_data"
    },
    {
     "data": {
      "text/plain": [
       "'T_R = 360.00'"
      ]
     },
     "metadata": {},
     "output_type": "display_data"
    },
    {
     "data": {
      "text/plain": [
       "'V^BF = 20.00'"
      ]
     },
     "metadata": {},
     "output_type": "display_data"
    },
    {
     "data": {
      "text/plain": [
       "'H^BF = 0.00'"
      ]
     },
     "metadata": {},
     "output_type": "display_data"
    },
    {
     "data": {
      "text/plain": [
       "'T^BF = -80.00'"
      ]
     },
     "metadata": {},
     "output_type": "display_data"
    },
    {
     "data": {
      "text/plain": [
       "'V^CE = 20.00'"
      ]
     },
     "metadata": {},
     "output_type": "display_data"
    },
    {
     "data": {
      "text/plain": [
       "'H^CE = 0.00'"
      ]
     },
     "metadata": {},
     "output_type": "display_data"
    },
    {
     "data": {
      "text/plain": [
       "'T^CE = -40.00'"
      ]
     },
     "metadata": {},
     "output_type": "display_data"
    },
    {
     "data": {
      "text/plain": [
       "'phi^BD = -0.0350'"
      ]
     },
     "metadata": {},
     "output_type": "display_data"
    },
    {
     "data": {
      "text/plain": [
       "'u_z^BD = -0.1276'"
      ]
     },
     "metadata": {},
     "output_type": "display_data"
    },
    {
     "data": {
      "text/plain": [
       "'u_x^BD = 0.4055'"
      ]
     },
     "metadata": {},
     "output_type": "display_data"
    },
    {
     "data": {
      "text/plain": [
       "'phi^CF = 0.0100'"
      ]
     },
     "metadata": {},
     "output_type": "display_data"
    },
    {
     "data": {
      "text/plain": [
       "'u_z^CF = -0.3072'"
      ]
     },
     "metadata": {},
     "output_type": "display_data"
    },
    {
     "data": {
      "text/plain": [
       "'u_x^CF = -0.1763'"
      ]
     },
     "metadata": {},
     "output_type": "display_data"
    },
    {
     "data": {
      "text/plain": [
       "'C_N = 0.00'"
      ]
     },
     "metadata": {},
     "output_type": "display_data"
    },
    {
     "data": {
      "text/plain": [
       "'C_V = 0.00'"
      ]
     },
     "metadata": {},
     "output_type": "display_data"
    },
    {
     "data": {
      "text/plain": [
       "'C_M = 0.00'"
      ]
     },
     "metadata": {},
     "output_type": "display_data"
    },
    {
     "data": {
      "text/plain": [
       "'C_phi = 0.0000'"
      ]
     },
     "metadata": {},
     "output_type": "display_data"
    },
    {
     "data": {
      "text/plain": [
       "'C_ux = 0.0000'"
      ]
     },
     "metadata": {},
     "output_type": "display_data"
    },
    {
     "data": {
      "text/plain": [
       "'C_uz = 0.0000'"
      ]
     },
     "metadata": {},
     "output_type": "display_data"
    }
   ],
   "source": [
    "#display(sym.simplify(uz.subs(sol).rewrite(sym.Piecewise)))\n",
    "ea = 10**4\n",
    "ei = 10**4\n",
    "\n",
    "display(f'{Rv} = {Rv.subs(sol).subs(EI,ei).subs(EA,ea):.2f}')\n",
    "display(f'{Rh} = {Rh.subs(sol).subs(EI,ei).subs(EA,ea):.2f}')\n",
    "display(f'{Tr} = {Tr.subs(sol).subs(EI,ei).subs(EA,ea):.2f}')\n",
    "display(f'{VBF} = {VBF.subs(sol).subs(EI,ei).subs(EA,ea):.2f}')\n",
    "display(f'{HBF} = {HBF.subs(sol).subs(EI,ei).subs(EA,ea):.2f}')\n",
    "display(f'{TBF} = {TBF.subs(sol).subs(EI,ei).subs(EA,ea):.2f}')\n",
    "display(f'{VCE} = {VCE.subs(sol).subs(EI,ei).subs(EA,ea):.2f}')\n",
    "display(f'{HCE} = {HCE.subs(sol).subs(EI,ei).subs(EA,ea):.2f}')\n",
    "display(f'{TCE} = {TCE.subs(sol).subs(EI,ei).subs(EA,ea):.2f}')\n",
    "\n",
    "display(f'{phiBD} = {phiBD.subs(sol).subs(EI,ei).subs(EA,ea):.4f}')\n",
    "display(f'{uzBD} = {uzBD.subs(sol).subs(EI,ei).subs(EA,ea):.4f}')\n",
    "display(f'{uxBD} = {uxBD.subs(sol).subs(EI,ei).subs(EA,ea):.4f}')\n",
    "display(f'{phiCF} = {phiCF.subs(sol).subs(EI,ei).subs(EA,ea):.4f}')\n",
    "display(f'{uzCF} = {uzCF.subs(sol).subs(EI,ei).subs(EA,ea):.4f}')\n",
    "display(f'{uxCF} = {uxCF.subs(sol).subs(EI,ei).subs(EA,ea):.4f}')\n",
    "\n",
    "display(f'{CN} = {CN.subs(sol).subs(EI,ei).subs(EA,ea):.2f}')\n",
    "display(f'{CV} = {CV.subs(sol).subs(EI,ei).subs(EA,ea):.2f}')\n",
    "display(f'{CM} = {CM.subs(sol).subs(EI,ei).subs(EA,ea):.2f}')\n",
    "display(f'{Cphi} = {Cphi.subs(sol).subs(EI,ei).subs(EA,ea):.4f}')\n",
    "display(f'{Cux} = {Cux.subs(sol).subs(EI,ei).subs(EA,ea):.4f}')\n",
    "display(f'{Cuz} = {Cuz.subs(sol).subs(EI,ei).subs(EA,ea):.4f}')"
   ]
  },
  {
   "cell_type": "code",
   "execution_count": 9,
   "id": "cee762a4-809e-4305-ac61-51ab1f8648c2",
   "metadata": {},
   "outputs": [
    {
     "data": {
      "text/plain": [
       "{h_BD: -4.00000000000000,\n",
       " h_CF: -2.00000000000000,\n",
       " v_BD: 3.00000000000000,\n",
       " v_CF: -4.50000000000000}"
      ]
     },
     "metadata": {},
     "output_type": "display_data"
    }
   ],
   "source": [
    "vBD, hBD, vCF, hCF = sym.symbols('v_BD h_BD v_CF h_CF')\n",
    "vv = [vBD, vCF]\n",
    "hh = [hBD, hCF]\n",
    "v = 0\n",
    "h = 0\n",
    "for i in range(len(oo)):\n",
    "    v += -(sym.SingularityFunction(x,aa[i],1) - sym.SingularityFunction(x,aa[i+1],1)) * sym.sin(oo[i])\n",
    "    h += (sym.SingularityFunction(x,aa[i],1) - sym.SingularityFunction(x,aa[i+1],1)) * sym.cos(oo[i])\n",
    "for i in range(len(ss)):\n",
    "    v += vv[i] * sym.SingularityFunction(x,ss[i],0)\n",
    "    h += hh[i] * sym.SingularityFunction(x,ss[i],0)\n",
    "\n",
    "# 2 x 2 sprongen = 4 onbekenden\n",
    "Eq1 = sym.Eq(v.subs(x,a1),v.subs(x,s1))\n",
    "Eq2 = sym.Eq(v.subs(x,a2),v.subs(x,s2))\n",
    "Eq3 = sym.Eq(h.subs(x,a1),h.subs(x,s1))\n",
    "Eq4 = sym.Eq(h.subs(x,a2),h.subs(x,s2))\n",
    "\n",
    "sol2 = sym.solve((Eq1,Eq2,Eq3,Eq4),(vBD, hBD, vCF, hCF))\n",
    "display(sol2)"
   ]
  },
  {
   "cell_type": "code",
   "execution_count": 10,
   "id": "73a817a7-b311-4aae-981c-737ff6bd9a12",
   "metadata": {},
   "outputs": [],
   "source": [
    "L = 14.5\n",
    "x_np = np.linspace(0-dx,L+dx,10000)\n",
    "ab = aa\n",
    "ab.extend(bb)\n",
    "ab.sort()\n",
    "ab = list(dict.fromkeys(ab))"
   ]
  },
  {
   "cell_type": "code",
   "execution_count": 11,
   "id": "ad5800e2-5ba3-4e11-9014-2c0d518638ad",
   "metadata": {},
   "outputs": [
    {
     "data": {
      "text/latex": [
       "$\\displaystyle - 24.0 {\\left\\langle x - 2 \\right\\rangle}^{0} + 12.0 {\\left\\langle x - 4.5 \\right\\rangle}^{0} + 12.0 {\\left\\langle x - 7 \\right\\rangle}^{0} - 4054.8 {\\left\\langle x - 7.0 \\right\\rangle}^{-1} + 12.0 {\\left\\langle x - 7.0 \\right\\rangle}^{0} - 12.0 {\\left\\langle x - 12 \\right\\rangle}^{0} + 1763.2 {\\left\\langle x - 12.0 \\right\\rangle}^{-1} + 12.0 {\\left\\langle x - 12.0 \\right\\rangle}^{0} - 12.0 {\\left\\langle x - 14.5 \\right\\rangle}^{0}$"
      ],
      "text/plain": [
       "-24.0*SingularityFunction(x, 2, 0) + 12.0*SingularityFunction(x, 4.5, 0) + 12.0*SingularityFunction(x, 7, 0) - 4054.8*SingularityFunction(x, 7.0, -1) + 12.0*SingularityFunction(x, 7.0, 0) - 12.0*SingularityFunction(x, 12, 0) + 1763.2*SingularityFunction(x, 12.0, -1) + 12.0*SingularityFunction(x, 12.0, 0) - 12.0*SingularityFunction(x, 14.5, 0)"
      ]
     },
     "metadata": {},
     "output_type": "display_data"
    },
    {
     "data": {
      "text/plain": [
       "'N(0.0) = 2.00000000000000E-15'"
      ]
     },
     "metadata": {},
     "output_type": "display_data"
    },
    {
     "data": {
      "text/plain": [
       "'N(2.0) = -24.0000000000000'"
      ]
     },
     "metadata": {},
     "output_type": "display_data"
    },
    {
     "data": {
      "text/plain": [
       "'N(4.5) = -12.0000000000000'"
      ]
     },
     "metadata": {},
     "output_type": "display_data"
    },
    {
     "data": {
      "text/plain": [
       "'N(7.0) = 2.00000000000000E-15'"
      ]
     },
     "metadata": {},
     "output_type": "display_data"
    },
    {
     "data": {
      "text/plain": [
       "'N(7.0) = -oo'"
      ]
     },
     "metadata": {},
     "output_type": "display_data"
    },
    {
     "data": {
      "text/plain": [
       "'N(12.0) = 2.00000000000000E-15'"
      ]
     },
     "metadata": {},
     "output_type": "display_data"
    },
    {
     "data": {
      "text/plain": [
       "'N(12.0) = oo'"
      ]
     },
     "metadata": {},
     "output_type": "display_data"
    },
    {
     "data": {
      "text/plain": [
       "'N(14.5) = 2.00000000000000E-15'"
      ]
     },
     "metadata": {},
     "output_type": "display_data"
    },
    {
     "data": {
      "image/png": "[encoded data removed]",
      "text/plain": [
       "<Figure size 400x400 with 1 Axes>"
      ]
     },
     "metadata": {},
     "output_type": "display_data"
    }
   ],
   "source": [
    "N_np = sym.lambdify(x, N.subs(sol).subs(EI,ei).subs(EA,ea).rewrite(sym.Piecewise))\n",
    "display(N.subs(sol).subs(EI,ei).subs(EA,ea))\n",
    "\n",
    "for i in range(len(ab)):\n",
    "    display(f'N({ab[i]:.1f}) = {N.subs(x,ab[i]).subs(sol).subs(EI,ei).subs(EA,ea)+dx}')\n",
    "\n",
    "plt.figure(figsize=(4,4))\n",
    "plt.plot(x_np,N_np(x_np))\n",
    "plt.xlabel('$x$')\n",
    "plt.ylabel('$N$');\n",
    "ax = plt.gca()\n",
    "ax.spines['right'].set_color('none')\n",
    "ax.spines['top'].set_color('none')\n",
    "ax.spines['bottom'].set_position('zero')\n",
    "ax.spines['left'].set_position('zero')\n",
    "ax.invert_yaxis()"
   ]
  },
  {
   "cell_type": "code",
   "execution_count": 12,
   "id": "48b76cf8-43a5-404d-96c1-c7378039f35b",
   "metadata": {},
   "outputs": [
    {
     "data": {
      "text/latex": [
       "$\\displaystyle - 360.0 {\\left\\langle x \\right\\rangle}^{-1} + 60.0 {\\left\\langle x \\right\\rangle}^{0} + 80.0 {\\left\\langle x - 2 \\right\\rangle}^{-1} - 28.0 {\\left\\langle x - 2 \\right\\rangle}^{0} + 40.0 {\\left\\langle x - 4.5 \\right\\rangle}^{-1} - 16.0 {\\left\\langle x - 4.5 \\right\\rangle}^{0} - 16.0 {\\left\\langle x - 7 \\right\\rangle}^{0} + 1276.4 {\\left\\langle x - 7.0 \\right\\rangle}^{-3} + 350.0 {\\left\\langle x - 7.0 \\right\\rangle}^{-2} - 80.0 {\\left\\langle x - 7.0 \\right\\rangle}^{-1} + 16.0 {\\left\\langle x - 7.0 \\right\\rangle}^{0} - 16.0 {\\left\\langle x - 12 \\right\\rangle}^{0} + 3072.4 {\\left\\langle x - 12.0 \\right\\rangle}^{-3} - 100.0 {\\left\\langle x - 12.0 \\right\\rangle}^{-2} - 40.0 {\\left\\langle x - 12.0 \\right\\rangle}^{-1} + 16.0 {\\left\\langle x - 12.0 \\right\\rangle}^{0} - 16.0 {\\left\\langle x - 14.5 \\right\\rangle}^{0}$"
      ],
      "text/plain": [
       "-360.0*SingularityFunction(x, 0, -1) + 60.0*SingularityFunction(x, 0, 0) + 80.0*SingularityFunction(x, 2, -1) - 28.0*SingularityFunction(x, 2, 0) + 40.0*SingularityFunction(x, 4.5, -1) - 16.0*SingularityFunction(x, 4.5, 0) - 16.0*SingularityFunction(x, 7, 0) + 1276.4*SingularityFunction(x, 7.0, -3) + 350.0*SingularityFunction(x, 7.0, -2) - 80.0*SingularityFunction(x, 7.0, -1) + 16.0*SingularityFunction(x, 7.0, 0) - 16.0*SingularityFunction(x, 12, 0) + 3072.4*SingularityFunction(x, 12.0, -3) - 100.0*SingularityFunction(x, 12.0, -2) - 40.0*SingularityFunction(x, 12.0, -1) + 16.0*SingularityFunction(x, 12.0, 0) - 16.0*SingularityFunction(x, 14.5, 0)"
      ]
     },
     "metadata": {},
     "output_type": "display_data"
    },
    {
     "data": {
      "text/plain": [
       "'V(0.0) = 0.00'"
      ]
     },
     "metadata": {},
     "output_type": "display_data"
    },
    {
     "data": {
      "text/plain": [
       "'V(2.0) = 60.00'"
      ]
     },
     "metadata": {},
     "output_type": "display_data"
    },
    {
     "data": {
      "text/plain": [
       "'V(4.5) = 32.00'"
      ]
     },
     "metadata": {},
     "output_type": "display_data"
    },
    {
     "data": {
      "text/plain": [
       "'V(7.0) = 16.00'"
      ]
     },
     "metadata": {},
     "output_type": "display_data"
    },
    {
     "data": {
      "text/plain": [
       "'V(7.0) = 0.00'"
      ]
     },
     "metadata": {},
     "output_type": "display_data"
    },
    {
     "data": {
      "text/plain": [
       "'V(12.0) = 16.00'"
      ]
     },
     "metadata": {},
     "output_type": "display_data"
    },
    {
     "data": {
      "text/plain": [
       "'V(12.0) = 0.00'"
      ]
     },
     "metadata": {},
     "output_type": "display_data"
    },
    {
     "data": {
      "text/plain": [
       "'V(14.5) = 16.00'"
      ]
     },
     "metadata": {},
     "output_type": "display_data"
    },
    {
     "data": {
      "image/png": "[encoded data removed]",
      "text/plain": [
       "<Figure size 400x400 with 1 Axes>"
      ]
     },
     "metadata": {},
     "output_type": "display_data"
    }
   ],
   "source": [
    "V_np = sym.lambdify(x, V.subs(sol).subs(EI,ei).subs(EA,ea).rewrite(sym.Piecewise))\n",
    "display(V.subs(sol).subs(EI,ei).subs(EA,ea))\n",
    "\n",
    "for i in range(len(ab)):\n",
    "    display(f'V({ab[i]:.1f}) = {V.subs(x,ab[i]-dx).subs(sol).subs(EI,ei).subs(EA,ea)+dx:.2f}')\n",
    "\n",
    "plt.figure(figsize=(4,4))\n",
    "plt.plot(x_np,V_np(x_np))\n",
    "plt.xlabel('$x$')\n",
    "plt.ylabel('$V$');\n",
    "ax = plt.gca()\n",
    "ax.spines['right'].set_color('none')\n",
    "ax.spines['top'].set_color('none')\n",
    "ax.spines['bottom'].set_position('zero')\n",
    "ax.spines['left'].set_position('zero')\n",
    "ax.invert_yaxis()"
   ]
  },
  {
   "cell_type": "code",
   "execution_count": 13,
   "id": "43c2ee33-53de-46a2-be24-428c29f5f21d",
   "metadata": {},
   "outputs": [
    {
     "data": {
      "text/plain": [
       "'M(0) = -360.000000000000'"
      ]
     },
     "metadata": {},
     "output_type": "display_data"
    },
    {
     "data": {
      "text/plain": [
       "'M(2) = -160.000000000000'"
      ]
     },
     "metadata": {},
     "output_type": "display_data"
    },
    {
     "data": {
      "text/plain": [
       "'M(4.5) = -40.0000000000000'"
      ]
     },
     "metadata": {},
     "output_type": "display_data"
    },
    {
     "data": {
      "text/plain": [
       "'M(7) = 0'"
      ]
     },
     "metadata": {},
     "output_type": "display_data"
    },
    {
     "data": {
      "text/plain": [
       "'M(7.000000000000004) = oo'"
      ]
     },
     "metadata": {},
     "output_type": "display_data"
    },
    {
     "data": {
      "text/plain": [
       "'M(12) = -7.10542735760100E-14'"
      ]
     },
     "metadata": {},
     "output_type": "display_data"
    },
    {
     "data": {
      "text/plain": [
       "'M(12.000000000000004) = nan'"
      ]
     },
     "metadata": {},
     "output_type": "display_data"
    },
    {
     "data": {
      "text/plain": [
       "'M(14.5) = -1.27897692436818E-13'"
      ]
     },
     "metadata": {},
     "output_type": "display_data"
    },
    {
     "data": {
      "image/png": "[encoded data removed]",
      "text/plain": [
       "<Figure size 400x400 with 1 Axes>"
      ]
     },
     "metadata": {},
     "output_type": "display_data"
    }
   ],
   "source": [
    "M_np = sym.lambdify(x, M.subs(sol).subs(EI,ei).subs(EA,ea).rewrite(sym.Piecewise))\n",
    "\n",
    "for i in range(len(ab)):\n",
    "    display(f'M({ab[i]}) = {M.subs(x,ab[i]).subs(sol).subs(EI,ei).subs(EA,ea)}')\n",
    "\n",
    "plt.figure(figsize=(4,4))\n",
    "plt.plot(x_np,M_np(x_np))\n",
    "plt.xlabel('$x$')\n",
    "plt.ylabel('$M$');\n",
    "ax = plt.gca()\n",
    "ax.spines['right'].set_color('none')\n",
    "ax.spines['top'].set_color('none')\n",
    "ax.spines['bottom'].set_position('zero')\n",
    "ax.spines['left'].set_position('zero')\n",
    "ax.invert_yaxis()"
   ]
  },
  {
   "cell_type": "code",
   "execution_count": 14,
   "id": "8895a8e1-55c5-492d-b840-816f7259a439",
   "metadata": {},
   "outputs": [
    {
     "data": {
      "text/plain": [
       "'uv(0.0) = 0.0000 [m]'"
      ]
     },
     "metadata": {},
     "output_type": "display_data"
    },
    {
     "data": {
      "text/plain": [
       "'uv(2.0) = 0.0640 [m]'"
      ]
     },
     "metadata": {},
     "output_type": "display_data"
    },
    {
     "data": {
      "text/plain": [
       "'uv(4.5) = 0.2209 [m]'"
      ]
     },
     "metadata": {},
     "output_type": "display_data"
    },
    {
     "data": {
      "text/plain": [
       "'uv(7.0) = 0.4094 [m]'"
      ]
     },
     "metadata": {},
     "output_type": "display_data"
    },
    {
     "data": {
      "text/plain": [
       "'uv(7.0) = 0.0640 [m]'"
      ]
     },
     "metadata": {},
     "output_type": "display_data"
    },
    {
     "data": {
      "text/plain": [
       "'uv(12.0) = 0.3609 [m]'"
      ]
     },
     "metadata": {},
     "output_type": "display_data"
    },
    {
     "data": {
      "text/plain": [
       "'uv(12.0) = 0.2209 [m]'"
      ]
     },
     "metadata": {},
     "output_type": "display_data"
    },
    {
     "data": {
      "text/plain": [
       "'uv(14.5) = 0.4094 [m]'"
      ]
     },
     "metadata": {},
     "output_type": "display_data"
    },
    {
     "data": {
      "text/plain": [
       "'uh(0.0) = 0.0000 [m]'"
      ]
     },
     "metadata": {},
     "output_type": "display_data"
    },
    {
     "data": {
      "text/plain": [
       "'uh(2.0) = 0.0000 [m]'"
      ]
     },
     "metadata": {},
     "output_type": "display_data"
    },
    {
     "data": {
      "text/plain": [
       "'uh(4.5) = 0.1102 [m]'"
      ]
     },
     "metadata": {},
     "output_type": "display_data"
    },
    {
     "data": {
      "text/plain": [
       "'uh(7.0) = 0.2478 [m]'"
      ]
     },
     "metadata": {},
     "output_type": "display_data"
    },
    {
     "data": {
      "text/plain": [
       "'uh(7.0) = 0.0000 [m]'"
      ]
     },
     "metadata": {},
     "output_type": "display_data"
    },
    {
     "data": {
      "text/plain": [
       "'uh(12.0) = -0.2152 [m]'"
      ]
     },
     "metadata": {},
     "output_type": "display_data"
    },
    {
     "data": {
      "text/plain": [
       "'uh(12.0) = 0.1102 [m]'"
      ]
     },
     "metadata": {},
     "output_type": "display_data"
    },
    {
     "data": {
      "text/plain": [
       "'uh(14.5) = -0.0274 [m]'"
      ]
     },
     "metadata": {},
     "output_type": "display_data"
    },
    {
     "data": {
      "image/png": "[encoded data removed]",
      "text/plain": [
       "<Figure size 640x480 with 1 Axes>"
      ]
     },
     "metadata": {},
     "output_type": "display_data"
    }
   ],
   "source": [
    "v_np = sym.lambdify(x, v.subs(sol2).rewrite(sym.Piecewise))\n",
    "h_np = sym.lambdify(x, h.subs(sol2).rewrite(sym.Piecewise))\n",
    "\n",
    "uv_np = sym.lambdify(x, uv.subs(sol).subs(EI,ei).subs(EA,ea).rewrite(sym.Piecewise))\n",
    "uh_np = sym.lambdify(x, uh.subs(sol).subs(EI,ei).subs(EA,ea).rewrite(sym.Piecewise))\n",
    "\n",
    "#display(uv.subs(sol))\n",
    "for i in range(len(ab)):\n",
    "    display(f'uv({ab[i]:.1f}) = {uv.subs(x,ab[i]).subs(sol).subs(EI,ei).subs(EA,ea)+dx:.4f} [m]')\n",
    "\n",
    "for i in range(len(ab)):\n",
    "    display(f'uh({ab[i]:.1f}) = {uh.subs(x,ab[i]).subs(sol).subs(EI,ei).subs(EA,ea)+dx:.4f} [m]')\n",
    "\n",
    "plt.figure()\n",
    "plt.plot(h_np(x_np),v_np(x_np), marker='.',markersize=1, linewidth=0, color='black', label='constructie')\n",
    "plt.plot((h_np(x_np)+uh_np(x_np)),(v_np(x_np)+uv_np(x_np)), marker='.',markersize=0.5, linewidth=0, label='vervormde constructie')\n",
    "plt.xlabel('$h$')\n",
    "plt.ylabel('$v$');\n",
    "ax = plt.gca()\n",
    "ax.spines['right'].set_color('none')\n",
    "ax.spines['top'].set_color('none')\n",
    "ax.spines['bottom'].set_position('zero')\n",
    "ax.spines['left'].set_position('zero')\n",
    "ax.invert_yaxis()\n",
    "plt.axis('scaled')\n",
    "ax.legend(loc='upper center', bbox_to_anchor=(0.5, -0.05),fancybox=True, shadow=False, ncol=3);"
   ]
  },
  {
   "cell_type": "code",
   "execution_count": null,
   "id": "7e03e9da-2e11-4ec7-a8e8-102237e5c0b3",
   "metadata": {},
   "outputs": [],
   "source": []
  }
 ],
 "metadata": {
  "kernelspec": {
   "display_name": "Python 3 (ipykernel)",
   "language": "python",
   "name": "python3"
  },
  "language_info": {
   "codemirror_mode": {
    "name": "ipython",
    "version": 3
   },
   "file_extension": ".py",
   "mimetype": "text/x-python",
   "name": "python",
   "nbconvert_exporter": "python",
   "pygments_lexer": "ipython3",
   "version": "3.11.9"
  }
 },
 "nbformat": 4,
 "nbformat_minor": 5
}
