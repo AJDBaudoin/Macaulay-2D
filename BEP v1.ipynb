{
 "cells": [
  {
   "cell_type": "code",
   "execution_count": 1,
   "id": "0ecf5346-5046-4efa-b8e1-4198de2994d5",
   "metadata": {},
   "outputs": [],
   "source": [
    "import sympy as sym\n",
    "import numpy as np\n",
    "import matplotlib.pyplot as plt"
   ]
  },
  {
   "cell_type": "code",
   "execution_count": 2,
   "id": "485a47e2-1432-4262-9f64-8a281b0404d8",
   "metadata": {},
   "outputs": [],
   "source": [
    "# algemene gegevens\n",
    "x = sym.symbols('x')\n",
    "EI, EA = sym.symbols('EI EA')\n",
    "CV, CM, Cphi, Cuz, CN, Cux = sym.symbols('C_V C_M C_phi C_uz C_N C_ux') \n",
    "dx = 10**-15\n",
    "\n",
    "# gegevens constructie\n",
    "a0, a1, a2, a3 = 0, 4, 9, 14\n",
    "aa = np.array([a0, a1, a2, a3])\n",
    "o0, o1, o2 = 0, sym.atan(3/4), sym.atan(-4/3)\n",
    "oo = np.array([o0, o1, o2])\n",
    "L = 14\n",
    "\n",
    "# gegevens belastingen\n",
    "Fh, qv, Fv = 15, 6, 16\n",
    "Rv, Rh, Tr = sym.symbols('R_v R_h T_R')\n",
    "B = np.array([Fh, qv, -qv, Fv, Rv, Rh, Tr])\n",
    "b1, b2, b3, b4 = 0, 2, 6.5, 14\n",
    "bb = np.array([b1, b1, b3, b2, b4, b4, b4])\n",
    "# K = 1, Fv = 2, Fh = 3, qv = 4, qh = 5\n",
    "nn = np.array([3, 4, 4, 2, 2, 3, 1])"
   ]
  },
  {
   "cell_type": "code",
   "execution_count": 3,
   "id": "33716208-fd92-439d-9eb0-a5dd933dae38",
   "metadata": {},
   "outputs": [
    {
     "data": {
      "text/latex": [
       "$\\displaystyle {q_z}=$"
      ],
      "text/plain": [
       "{q_z}="
      ]
     },
     "metadata": {},
     "output_type": "display_data"
    },
    {
     "data": {
      "text/latex": [
       "$\\displaystyle - 0.8 R_{h} {\\left\\langle x - 14.0 \\right\\rangle}^{-1} + 0.6 R_{v} {\\left\\langle x - 14.0 \\right\\rangle}^{-1} + T_{R} {\\left\\langle x - 14.0 \\right\\rangle}^{-2} + 6 {\\left\\langle x \\right\\rangle}^{0} + 16 {\\left\\langle x - 2.0 \\right\\rangle}^{-1} + 1.0 {\\left\\langle x - 4 \\right\\rangle}^{-1} - 1.2 {\\left\\langle x - 4 \\right\\rangle}^{0} - 4.8 {\\left\\langle x - 6.5 \\right\\rangle}^{0} - 32.0 {\\left\\langle x - 9 \\right\\rangle}^{-1}$"
      ],
      "text/plain": [
       "-0.8*R_h*SingularityFunction(x, 14.0, -1) + 0.6*R_v*SingularityFunction(x, 14.0, -1) + T_R*SingularityFunction(x, 14.0, -2) + 6*SingularityFunction(x, 0.0, 0) + 16*SingularityFunction(x, 2.0, -1) + 1.0*SingularityFunction(x, 4, -1) - 1.2*SingularityFunction(x, 4, 0) - 4.8*SingularityFunction(x, 6.5, 0) - 32.0*SingularityFunction(x, 9, -1)"
      ]
     },
     "metadata": {},
     "output_type": "display_data"
    }
   ],
   "source": [
    "#qz opstellen\n",
    "qz = 0\n",
    "\n",
    "#beginpunten\n",
    "for i in range(len(B)):\n",
    "    for j in range(len(aa)):\n",
    "        if bb[i] == aa[-1]:\n",
    "            if nn[i] == 1:\n",
    "                qz += B[i] * sym.SingularityFunction(x,bb[i],-2)\n",
    "            if nn[i] == 2:\n",
    "                qz += B[i] * sym.SingularityFunction(x,bb[i],-1) * sym.cos(oo[-1])\n",
    "            if nn[i] == 3:\n",
    "                qz += B[i] * sym.SingularityFunction(x,bb[i],-1) * sym.sin(oo[-1])\n",
    "            if nn[i] == 4:\n",
    "                qz += B[i] * sym.SingularityFunction(x,bb[i],0) * sym.cos(oo[-1])\n",
    "            if nn[i] == 5:\n",
    "                qz += B[i] * sym.SingularityFunction(x,bb[i],0) * sym.sin(oo[-1])\n",
    "            break\n",
    "        else:\n",
    "            if bb[i] < aa[j]:\n",
    "                if nn[i] == 1:\n",
    "                    qz += B[i] * sym.SingularityFunction(x,bb[i],-2)\n",
    "                if nn[i] == 2:\n",
    "                    qz += B[i] * sym.SingularityFunction(x,bb[i],-1) * sym.cos(oo[j-1])\n",
    "                if nn[i] == 3:\n",
    "                    qz += B[i] * sym.SingularityFunction(x,bb[i],-1) * sym.sin(oo[j-1])\n",
    "                if nn[i] == 4:\n",
    "                    qz += B[i] * sym.SingularityFunction(x,bb[i],0) * sym.cos(oo[j-1])\n",
    "                if nn[i] == 5:\n",
    "                    qz += B[i] * sym.SingularityFunction(x,bb[i],0) * sym.sin(oo[j-1])\n",
    "                break\n",
    "\n",
    "# knikpunten\n",
    "for i in range(len(B)):\n",
    "    for j in range(len(aa)-1):\n",
    "        if bb[i] < aa[j]:\n",
    "            if nn[i] == 2:\n",
    "                qz += B[i] * sym.SingularityFunction(x,aa[j],-1) * (sym.cos(oo[j]) - sym.cos(oo[j-1]))\n",
    "            if nn[i] == 3:\n",
    "                qz += B[i] * sym.SingularityFunction(x,aa[j],-1) * (sym.sin(oo[j]) - sym.sin(oo[j-1]))\n",
    "            if nn[i] == 4:\n",
    "                qz += B[i] * ((sym.SingularityFunction(x,aa[j],0) + sym.SingularityFunction(x,aa[j],-1) * (aa[j] - bb[i])) * (sym.cos(oo[j]) - sym.cos(oo[j-1])))\n",
    "            if nn[i] == 5:\n",
    "                qz += B[i] * ((sym.SingularityFunction(x,aa[j],0) + sym.SingularityFunction(x,aa[j],-1) * (aa[j] - bb[i])) * (sym.sin(oo[j]) - sym.sin(oo[j-1])))\n",
    "\n",
    "display(sym.symbols('{q_z}='), qz)"
   ]
  },
  {
   "cell_type": "code",
   "execution_count": 4,
   "id": "42b8e9d1-cde9-41f3-a01c-078e5f034b9e",
   "metadata": {},
   "outputs": [
    {
     "data": {
      "text/latex": [
       "$\\displaystyle {q_x}=$"
      ],
      "text/plain": [
       "{q_x}="
      ]
     },
     "metadata": {},
     "output_type": "display_data"
    },
    {
     "data": {
      "text/latex": [
       "$\\displaystyle 0.6 R_{h} {\\left\\langle x - 14.0 \\right\\rangle}^{-1} + 0.8 R_{v} {\\left\\langle x - 14.0 \\right\\rangle}^{-1} + 15 {\\left\\langle x \\right\\rangle}^{-1} - 27.0 {\\left\\langle x - 4 \\right\\rangle}^{-1} - 3.6 {\\left\\langle x - 4 \\right\\rangle}^{0} + 3.6 {\\left\\langle x - 6.5 \\right\\rangle}^{0} + 74.0 {\\left\\langle x - 9 \\right\\rangle}^{-1}$"
      ],
      "text/plain": [
       "0.6*R_h*SingularityFunction(x, 14.0, -1) + 0.8*R_v*SingularityFunction(x, 14.0, -1) + 15*SingularityFunction(x, 0.0, -1) - 27.0*SingularityFunction(x, 4, -1) - 3.6*SingularityFunction(x, 4, 0) + 3.6*SingularityFunction(x, 6.5, 0) + 74.0*SingularityFunction(x, 9, -1)"
      ]
     },
     "metadata": {},
     "output_type": "display_data"
    }
   ],
   "source": [
    "#qx opstellen\n",
    "qx = 0\n",
    "\n",
    "#beginpunten\n",
    "for i in range(len(B)):\n",
    "    for j in range(len(aa)):\n",
    "        if bb[i] == aa[-1]:\n",
    "            if nn[i] == 2:\n",
    "                qx += B[i] * sym.SingularityFunction(x,bb[i],-1) * -sym.sin(oo[-1])\n",
    "            if nn[i] == 3:\n",
    "                qx += B[i] * sym.SingularityFunction(x,bb[i],-1) * sym.cos(oo[-1])\n",
    "            if nn[i] == 4:\n",
    "                qx += B[i] * sym.SingularityFunction(x,bb[i],0) * -sym.sin(oo[-1])\n",
    "            if nn[i] == 5:\n",
    "                qx += B[i] * sym.SingularityFunction(x,bb[i],0) * sym.cos(oo[-1])\n",
    "            break\n",
    "        else:\n",
    "            if bb[i] < aa[j]:\n",
    "                if nn[i] == 2:\n",
    "                    qx += B[i] * sym.SingularityFunction(x,bb[i],-1) * -sym.sin(oo[j-1])\n",
    "                if nn[i] == 3:\n",
    "                    qx += B[i] * sym.SingularityFunction(x,bb[i],-1) * sym.cos(oo[j-1])\n",
    "                if nn[i] == 4:\n",
    "                    qx += B[i] * sym.SingularityFunction(x,bb[i],0) * -sym.sin(oo[j-1])\n",
    "                if nn[i] == 5:\n",
    "                    qx += B[i] * sym.SingularityFunction(x,bb[i],0) * sym.cos(oo[j-1])\n",
    "                break\n",
    "\n",
    "# knikpunten\n",
    "for i in range(len(B)):\n",
    "    for j in range(len(aa)-1):\n",
    "        if bb[i] < aa[j]:\n",
    "            if nn[i] == 2:\n",
    "                qx += B[i] * sym.SingularityFunction(x,aa[j],-1) * (-sym.sin(oo[j]) + sym.sin(oo[j-1]))\n",
    "            if nn[i] == 3:\n",
    "                qx += B[i] * sym.SingularityFunction(x,aa[j],-1) * (sym.cos(oo[j]) - sym.cos(oo[j-1]))\n",
    "            if nn[i] == 4:\n",
    "                qx += B[i] * ((sym.SingularityFunction(x,aa[j],0) + sym.SingularityFunction(x,aa[j],-1) * (aa[j] - bb[i])) * (-sym.sin(oo[j]) + sym.sin(oo[j-1])))\n",
    "            if nn[i] == 5:\n",
    "                qx += B[i] * ((sym.SingularityFunction(x,aa[j],0) + sym.SingularityFunction(x,aa[j],-1) * (aa[j] - bb[i])) * (sym.cos(oo[j]) - sym.cos(oo[j-1])))\n",
    "\n",
    "display(sym.symbols('{q_x}='), qx)"
   ]
  },
  {
   "cell_type": "code",
   "execution_count": 5,
   "id": "583319ec-7c66-4b79-a75f-042a4ccd0f85",
   "metadata": {},
   "outputs": [
    {
     "data": {
      "text/latex": [
       "$\\displaystyle {N}=$"
      ],
      "text/plain": [
       "{N}="
      ]
     },
     "metadata": {},
     "output_type": "display_data"
    },
    {
     "data": {
      "text/latex": [
       "$\\displaystyle C_{N} - 0.6 R_{h} {\\left\\langle x - 14.0 \\right\\rangle}^{0} - 0.8 R_{v} {\\left\\langle x - 14.0 \\right\\rangle}^{0} - 15 {\\left\\langle x \\right\\rangle}^{0} + 27.0 {\\left\\langle x - 4 \\right\\rangle}^{0} + 3.6 {\\left\\langle x - 4 \\right\\rangle}^{1} - 3.6 {\\left\\langle x - 6.5 \\right\\rangle}^{1} - 74.0 {\\left\\langle x - 9 \\right\\rangle}^{0}$"
      ],
      "text/plain": [
       "C_N - 0.6*R_h*SingularityFunction(x, 14.0, 0) - 0.8*R_v*SingularityFunction(x, 14.0, 0) - 15*SingularityFunction(x, 0.0, 0) + 27.0*SingularityFunction(x, 4, 0) + 3.6*SingularityFunction(x, 4, 1) - 3.6*SingularityFunction(x, 6.5, 1) - 74.0*SingularityFunction(x, 9, 0)"
      ]
     },
     "metadata": {},
     "output_type": "display_data"
    },
    {
     "data": {
      "text/latex": [
       "$\\displaystyle {V}=$"
      ],
      "text/plain": [
       "{V}="
      ]
     },
     "metadata": {},
     "output_type": "display_data"
    },
    {
     "data": {
      "text/latex": [
       "$\\displaystyle C_{V} + 0.8 R_{h} {\\left\\langle x - 14.0 \\right\\rangle}^{0} - 0.6 R_{v} {\\left\\langle x - 14.0 \\right\\rangle}^{0} - T_{R} {\\left\\langle x - 14.0 \\right\\rangle}^{-1} - 6 {\\left\\langle x \\right\\rangle}^{1} - 16 {\\left\\langle x - 2.0 \\right\\rangle}^{0} - 1.0 {\\left\\langle x - 4 \\right\\rangle}^{0} + 1.2 {\\left\\langle x - 4 \\right\\rangle}^{1} + 4.8 {\\left\\langle x - 6.5 \\right\\rangle}^{1} + 32.0 {\\left\\langle x - 9 \\right\\rangle}^{0}$"
      ],
      "text/plain": [
       "C_V + 0.8*R_h*SingularityFunction(x, 14.0, 0) - 0.6*R_v*SingularityFunction(x, 14.0, 0) - T_R*SingularityFunction(x, 14.0, -1) - 6*SingularityFunction(x, 0.0, 1) - 16*SingularityFunction(x, 2.0, 0) - 1.0*SingularityFunction(x, 4, 0) + 1.2*SingularityFunction(x, 4, 1) + 4.8*SingularityFunction(x, 6.5, 1) + 32.0*SingularityFunction(x, 9, 0)"
      ]
     },
     "metadata": {},
     "output_type": "display_data"
    },
    {
     "data": {
      "text/latex": [
       "$\\displaystyle {M}=$"
      ],
      "text/plain": [
       "{M}="
      ]
     },
     "metadata": {},
     "output_type": "display_data"
    },
    {
     "data": {
      "text/latex": [
       "$\\displaystyle C_{M} + C_{V} x + 0.8 R_{h} {\\left\\langle x - 14.0 \\right\\rangle}^{1} - 0.6 R_{v} {\\left\\langle x - 14.0 \\right\\rangle}^{1} - T_{R} {\\left\\langle x - 14.0 \\right\\rangle}^{0} - 3 {\\left\\langle x \\right\\rangle}^{2} - 16 {\\left\\langle x - 2.0 \\right\\rangle}^{1} - 1.0 {\\left\\langle x - 4 \\right\\rangle}^{1} + 0.6 {\\left\\langle x - 4 \\right\\rangle}^{2} + 2.4 {\\left\\langle x - 6.5 \\right\\rangle}^{2} + 32.0 {\\left\\langle x - 9 \\right\\rangle}^{1}$"
      ],
      "text/plain": [
       "C_M + C_V*x + 0.8*R_h*SingularityFunction(x, 14.0, 1) - 0.6*R_v*SingularityFunction(x, 14.0, 1) - T_R*SingularityFunction(x, 14.0, 0) - 3*SingularityFunction(x, 0.0, 2) - 16*SingularityFunction(x, 2.0, 1) - 1.0*SingularityFunction(x, 4, 1) + 0.6*SingularityFunction(x, 4, 2) + 2.4*SingularityFunction(x, 6.5, 2) + 32.0*SingularityFunction(x, 9, 1)"
      ]
     },
     "metadata": {},
     "output_type": "display_data"
    },
    {
     "data": {
      "text/latex": [
       "$\\displaystyle {u_x}=$"
      ],
      "text/plain": [
       "{u_x}="
      ]
     },
     "metadata": {},
     "output_type": "display_data"
    },
    {
     "data": {
      "text/latex": [
       "$\\displaystyle C_{ux} + \\frac{C_{N} x - 0.6 R_{h} {\\left\\langle x - 14.0 \\right\\rangle}^{1} - 0.8 R_{v} {\\left\\langle x - 14.0 \\right\\rangle}^{1} - 15 {\\left\\langle x \\right\\rangle}^{1} + 27.0 {\\left\\langle x - 4 \\right\\rangle}^{1} + 1.8 {\\left\\langle x - 4 \\right\\rangle}^{2} - 1.8 {\\left\\langle x - 6.5 \\right\\rangle}^{2} - 74.0 {\\left\\langle x - 9 \\right\\rangle}^{1}}{EA}$"
      ],
      "text/plain": [
       "C_ux + (C_N*x - 0.6*R_h*SingularityFunction(x, 14.0, 1) - 0.8*R_v*SingularityFunction(x, 14.0, 1) - 15*SingularityFunction(x, 0.0, 1) + 27.0*SingularityFunction(x, 4, 1) + 1.8*SingularityFunction(x, 4, 2) - 1.8*SingularityFunction(x, 6.5, 2) - 74.0*SingularityFunction(x, 9, 1))/EA"
      ]
     },
     "metadata": {},
     "output_type": "display_data"
    },
    {
     "data": {
      "text/latex": [
       "$\\displaystyle {\\phi}=$"
      ],
      "text/plain": [
       "{\\phi}="
      ]
     },
     "metadata": {},
     "output_type": "display_data"
    },
    {
     "data": {
      "text/latex": [
       "$\\displaystyle C_{\\phi} + \\frac{C_{M} x + \\frac{C_{V} x^{2}}{2} + 0.4 R_{h} {\\left\\langle x - 14.0 \\right\\rangle}^{2} - 0.3 R_{v} {\\left\\langle x - 14.0 \\right\\rangle}^{2} - T_{R} {\\left\\langle x - 14.0 \\right\\rangle}^{1} - {\\left\\langle x \\right\\rangle}^{3} - 8 {\\left\\langle x - 2.0 \\right\\rangle}^{2} - 0.500000000000001 {\\left\\langle x - 4 \\right\\rangle}^{2} + 0.2 {\\left\\langle x - 4 \\right\\rangle}^{3} + 0.8 {\\left\\langle x - 6.5 \\right\\rangle}^{3} + 16.0 {\\left\\langle x - 9 \\right\\rangle}^{2}}{EI}$"
      ],
      "text/plain": [
       "C_phi + (C_M*x + C_V*x**2/2 + 0.4*R_h*SingularityFunction(x, 14.0, 2) - 0.3*R_v*SingularityFunction(x, 14.0, 2) - T_R*SingularityFunction(x, 14.0, 1) - SingularityFunction(x, 0.0, 3) - 8*SingularityFunction(x, 2.0, 2) - 0.500000000000001*SingularityFunction(x, 4, 2) + 0.2*SingularityFunction(x, 4, 3) + 0.8*SingularityFunction(x, 6.5, 3) + 16.0*SingularityFunction(x, 9, 2))/EI"
      ]
     },
     "metadata": {},
     "output_type": "display_data"
    },
    {
     "data": {
      "text/latex": [
       "$\\displaystyle {u_z}=$"
      ],
      "text/plain": [
       "{u_z}="
      ]
     },
     "metadata": {},
     "output_type": "display_data"
    },
    {
     "data": {
      "text/latex": [
       "$\\displaystyle - C_{\\phi} x + C_{uz} - \\frac{\\frac{C_{M} x^{2}}{2} + \\frac{C_{V} x^{3}}{6} + 0.133333333333333 R_{h} {\\left\\langle x - 14.0 \\right\\rangle}^{3} - 0.1 R_{v} {\\left\\langle x - 14.0 \\right\\rangle}^{3} - \\frac{T_{R} {\\left\\langle x - 14.0 \\right\\rangle}^{2}}{2} - \\frac{{\\left\\langle x \\right\\rangle}^{4}}{4} - \\frac{8 {\\left\\langle x - 2.0 \\right\\rangle}^{3}}{3} - 0.166666666666667 {\\left\\langle x - 4 \\right\\rangle}^{3} + 0.05 {\\left\\langle x - 4 \\right\\rangle}^{4} + 0.2 {\\left\\langle x - 6.5 \\right\\rangle}^{4} + 5.33333333333333 {\\left\\langle x - 9 \\right\\rangle}^{3}}{EI}$"
      ],
      "text/plain": [
       "-C_phi*x + C_uz - (C_M*x**2/2 + C_V*x**3/6 + 0.133333333333333*R_h*SingularityFunction(x, 14.0, 3) - 0.1*R_v*SingularityFunction(x, 14.0, 3) - T_R*SingularityFunction(x, 14.0, 2)/2 - SingularityFunction(x, 0.0, 4)/4 - 8*SingularityFunction(x, 2.0, 3)/3 - 0.166666666666667*SingularityFunction(x, 4, 3) + 0.05*SingularityFunction(x, 4, 4) + 0.2*SingularityFunction(x, 6.5, 4) + 5.33333333333333*SingularityFunction(x, 9, 3))/EI"
      ]
     },
     "metadata": {},
     "output_type": "display_data"
    },
    {
     "data": {
      "text/latex": [
       "$\\displaystyle {u_v}=$"
      ],
      "text/plain": [
       "{u_v}="
      ]
     },
     "metadata": {},
     "output_type": "display_data"
    },
    {
     "data": {
      "text/latex": [
       "$\\displaystyle C_{uz} + \\left(- C_{\\phi} x - \\frac{\\frac{C_{M} x^{2}}{2} + \\frac{C_{V} x^{3}}{6} + 0.133333333333333 R_{h} {\\left\\langle x - 14.0 \\right\\rangle}^{3} - 0.1 R_{v} {\\left\\langle x - 14.0 \\right\\rangle}^{3} - \\frac{T_{R} {\\left\\langle x - 14.0 \\right\\rangle}^{2}}{2} - \\frac{{\\left\\langle x \\right\\rangle}^{4}}{4} - \\frac{8 {\\left\\langle x - 2.0 \\right\\rangle}^{3}}{3} - 0.166666666666667 {\\left\\langle x - 4 \\right\\rangle}^{3} + 0.05 {\\left\\langle x - 4 \\right\\rangle}^{4} + 0.2 {\\left\\langle x - 6.5 \\right\\rangle}^{4} + 5.33333333333333 {\\left\\langle x - 9 \\right\\rangle}^{3}}{EI}\\right) {\\left\\langle x \\right\\rangle}^{0} - 0.6 \\left(- \\frac{4 C_{N} - 60.0}{EA} + \\frac{C_{N} x - 0.6 R_{h} {\\left\\langle x - 14.0 \\right\\rangle}^{1} - 0.8 R_{v} {\\left\\langle x - 14.0 \\right\\rangle}^{1} - 15 {\\left\\langle x \\right\\rangle}^{1} + 27.0 {\\left\\langle x - 4 \\right\\rangle}^{1} + 1.8 {\\left\\langle x - 4 \\right\\rangle}^{2} - 1.8 {\\left\\langle x - 6.5 \\right\\rangle}^{2} - 74.0 {\\left\\langle x - 9 \\right\\rangle}^{1}}{EA}\\right) {\\left\\langle x - 4 \\right\\rangle}^{0} + 1.4 \\left(- \\frac{9 C_{N} + 33.75}{EA} + \\frac{C_{N} x - 0.6 R_{h} {\\left\\langle x - 14.0 \\right\\rangle}^{1} - 0.8 R_{v} {\\left\\langle x - 14.0 \\right\\rangle}^{1} - 15 {\\left\\langle x \\right\\rangle}^{1} + 27.0 {\\left\\langle x - 4 \\right\\rangle}^{1} + 1.8 {\\left\\langle x - 4 \\right\\rangle}^{2} - 1.8 {\\left\\langle x - 6.5 \\right\\rangle}^{2} - 74.0 {\\left\\langle x - 9 \\right\\rangle}^{1}}{EA}\\right) {\\left\\langle x - 9 \\right\\rangle}^{0} - 0.8 \\left(- \\frac{14 C_{N} - 231.25}{EA} + \\frac{C_{N} x - 0.6 R_{h} {\\left\\langle x - 14.0 \\right\\rangle}^{1} - 0.8 R_{v} {\\left\\langle x - 14.0 \\right\\rangle}^{1} - 15 {\\left\\langle x \\right\\rangle}^{1} + 27.0 {\\left\\langle x - 4 \\right\\rangle}^{1} + 1.8 {\\left\\langle x - 4 \\right\\rangle}^{2} - 1.8 {\\left\\langle x - 6.5 \\right\\rangle}^{2} - 74.0 {\\left\\langle x - 9 \\right\\rangle}^{1}}{EA}\\right) {\\left\\langle x - 14 \\right\\rangle}^{0} - 0.2 \\left(- C_{\\phi} x + 4 C_{\\phi} + \\frac{8 C_{M} + \\frac{32 C_{V}}{3} - 85.3333333333333}{EI} - \\frac{\\frac{C_{M} x^{2}}{2} + \\frac{C_{V} x^{3}}{6} + 0.133333333333333 R_{h} {\\left\\langle x - 14.0 \\right\\rangle}^{3} - 0.1 R_{v} {\\left\\langle x - 14.0 \\right\\rangle}^{3} - \\frac{T_{R} {\\left\\langle x - 14.0 \\right\\rangle}^{2}}{2} - \\frac{{\\left\\langle x \\right\\rangle}^{4}}{4} - \\frac{8 {\\left\\langle x - 2.0 \\right\\rangle}^{3}}{3} - 0.166666666666667 {\\left\\langle x - 4 \\right\\rangle}^{3} + 0.05 {\\left\\langle x - 4 \\right\\rangle}^{4} + 0.2 {\\left\\langle x - 6.5 \\right\\rangle}^{4} + 5.33333333333333 {\\left\\langle x - 9 \\right\\rangle}^{3}}{EI}\\right) {\\left\\langle x - 4 \\right\\rangle}^{0} - 0.2 \\left(- C_{\\phi} x + 9 C_{\\phi} + \\frac{\\frac{81 C_{M}}{2} + \\frac{243 C_{V}}{2} - 2536.6875}{EI} - \\frac{\\frac{C_{M} x^{2}}{2} + \\frac{C_{V} x^{3}}{6} + 0.133333333333333 R_{h} {\\left\\langle x - 14.0 \\right\\rangle}^{3} - 0.1 R_{v} {\\left\\langle x - 14.0 \\right\\rangle}^{3} - \\frac{T_{R} {\\left\\langle x - 14.0 \\right\\rangle}^{2}}{2} - \\frac{{\\left\\langle x \\right\\rangle}^{4}}{4} - \\frac{8 {\\left\\langle x - 2.0 \\right\\rangle}^{3}}{3} - 0.166666666666667 {\\left\\langle x - 4 \\right\\rangle}^{3} + 0.05 {\\left\\langle x - 4 \\right\\rangle}^{4} + 0.2 {\\left\\langle x - 6.5 \\right\\rangle}^{4} + 5.33333333333333 {\\left\\langle x - 9 \\right\\rangle}^{3}}{EI}\\right) {\\left\\langle x - 9 \\right\\rangle}^{0} - 0.6 \\left(- C_{\\phi} x + 14 C_{\\phi} + \\frac{98 C_{M} + \\frac{1372 C_{V}}{3} - 12579.1875}{EI} - \\frac{\\frac{C_{M} x^{2}}{2} + \\frac{C_{V} x^{3}}{6} + 0.133333333333333 R_{h} {\\left\\langle x - 14.0 \\right\\rangle}^{3} - 0.1 R_{v} {\\left\\langle x - 14.0 \\right\\rangle}^{3} - \\frac{T_{R} {\\left\\langle x - 14.0 \\right\\rangle}^{2}}{2} - \\frac{{\\left\\langle x \\right\\rangle}^{4}}{4} - \\frac{8 {\\left\\langle x - 2.0 \\right\\rangle}^{3}}{3} - 0.166666666666667 {\\left\\langle x - 4 \\right\\rangle}^{3} + 0.05 {\\left\\langle x - 4 \\right\\rangle}^{4} + 0.2 {\\left\\langle x - 6.5 \\right\\rangle}^{4} + 5.33333333333333 {\\left\\langle x - 9 \\right\\rangle}^{3}}{EI}\\right) {\\left\\langle x - 14 \\right\\rangle}^{0}$"
      ],
      "text/plain": [
       "C_uz + (-C_phi*x - (C_M*x**2/2 + C_V*x**3/6 + 0.133333333333333*R_h*SingularityFunction(x, 14.0, 3) - 0.1*R_v*SingularityFunction(x, 14.0, 3) - T_R*SingularityFunction(x, 14.0, 2)/2 - SingularityFunction(x, 0.0, 4)/4 - 8*SingularityFunction(x, 2.0, 3)/3 - 0.166666666666667*SingularityFunction(x, 4, 3) + 0.05*SingularityFunction(x, 4, 4) + 0.2*SingularityFunction(x, 6.5, 4) + 5.33333333333333*SingularityFunction(x, 9, 3))/EI)*SingularityFunction(x, 0, 0) - 0.6*(-(4*C_N - 60.0)/EA + (C_N*x - 0.6*R_h*SingularityFunction(x, 14.0, 1) - 0.8*R_v*SingularityFunction(x, 14.0, 1) - 15*SingularityFunction(x, 0.0, 1) + 27.0*SingularityFunction(x, 4, 1) + 1.8*SingularityFunction(x, 4, 2) - 1.8*SingularityFunction(x, 6.5, 2) - 74.0*SingularityFunction(x, 9, 1))/EA)*SingularityFunction(x, 4, 0) + 1.4*(-(9*C_N + 33.75)/EA + (C_N*x - 0.6*R_h*SingularityFunction(x, 14.0, 1) - 0.8*R_v*SingularityFunction(x, 14.0, 1) - 15*SingularityFunction(x, 0.0, 1) + 27.0*SingularityFunction(x, 4, 1) + 1.8*SingularityFunction(x, 4, 2) - 1.8*SingularityFunction(x, 6.5, 2) - 74.0*SingularityFunction(x, 9, 1))/EA)*SingularityFunction(x, 9, 0) - 0.8*(-(14*C_N - 231.25)/EA + (C_N*x - 0.6*R_h*SingularityFunction(x, 14.0, 1) - 0.8*R_v*SingularityFunction(x, 14.0, 1) - 15*SingularityFunction(x, 0.0, 1) + 27.0*SingularityFunction(x, 4, 1) + 1.8*SingularityFunction(x, 4, 2) - 1.8*SingularityFunction(x, 6.5, 2) - 74.0*SingularityFunction(x, 9, 1))/EA)*SingularityFunction(x, 14, 0) - 0.2*(-C_phi*x + 4*C_phi + (8*C_M + 32*C_V/3 - 85.3333333333333)/EI - (C_M*x**2/2 + C_V*x**3/6 + 0.133333333333333*R_h*SingularityFunction(x, 14.0, 3) - 0.1*R_v*SingularityFunction(x, 14.0, 3) - T_R*SingularityFunction(x, 14.0, 2)/2 - SingularityFunction(x, 0.0, 4)/4 - 8*SingularityFunction(x, 2.0, 3)/3 - 0.166666666666667*SingularityFunction(x, 4, 3) + 0.05*SingularityFunction(x, 4, 4) + 0.2*SingularityFunction(x, 6.5, 4) + 5.33333333333333*SingularityFunction(x, 9, 3))/EI)*SingularityFunction(x, 4, 0) - 0.2*(-C_phi*x + 9*C_phi + (81*C_M/2 + 243*C_V/2 - 2536.6875)/EI - (C_M*x**2/2 + C_V*x**3/6 + 0.133333333333333*R_h*SingularityFunction(x, 14.0, 3) - 0.1*R_v*SingularityFunction(x, 14.0, 3) - T_R*SingularityFunction(x, 14.0, 2)/2 - SingularityFunction(x, 0.0, 4)/4 - 8*SingularityFunction(x, 2.0, 3)/3 - 0.166666666666667*SingularityFunction(x, 4, 3) + 0.05*SingularityFunction(x, 4, 4) + 0.2*SingularityFunction(x, 6.5, 4) + 5.33333333333333*SingularityFunction(x, 9, 3))/EI)*SingularityFunction(x, 9, 0) - 0.6*(-C_phi*x + 14*C_phi + (98*C_M + 1372*C_V/3 - 12579.1875)/EI - (C_M*x**2/2 + C_V*x**3/6 + 0.133333333333333*R_h*SingularityFunction(x, 14.0, 3) - 0.1*R_v*SingularityFunction(x, 14.0, 3) - T_R*SingularityFunction(x, 14.0, 2)/2 - SingularityFunction(x, 0.0, 4)/4 - 8*SingularityFunction(x, 2.0, 3)/3 - 0.166666666666667*SingularityFunction(x, 4, 3) + 0.05*SingularityFunction(x, 4, 4) + 0.2*SingularityFunction(x, 6.5, 4) + 5.33333333333333*SingularityFunction(x, 9, 3))/EI)*SingularityFunction(x, 14, 0)"
      ]
     },
     "metadata": {},
     "output_type": "display_data"
    },
    {
     "data": {
      "text/latex": [
       "$\\displaystyle {u_h}=$"
      ],
      "text/plain": [
       "{u_h}="
      ]
     },
     "metadata": {},
     "output_type": "display_data"
    },
    {
     "data": {
      "text/latex": [
       "$\\displaystyle C_{ux} - 0.2 \\left(- \\frac{4 C_{N} - 60.0}{EA} + \\frac{C_{N} x - 0.6 R_{h} {\\left\\langle x - 14.0 \\right\\rangle}^{1} - 0.8 R_{v} {\\left\\langle x - 14.0 \\right\\rangle}^{1} - 15 {\\left\\langle x \\right\\rangle}^{1} + 27.0 {\\left\\langle x - 4 \\right\\rangle}^{1} + 1.8 {\\left\\langle x - 4 \\right\\rangle}^{2} - 1.8 {\\left\\langle x - 6.5 \\right\\rangle}^{2} - 74.0 {\\left\\langle x - 9 \\right\\rangle}^{1}}{EA}\\right) {\\left\\langle x - 4 \\right\\rangle}^{0} - 0.2 \\left(- \\frac{9 C_{N} + 33.75}{EA} + \\frac{C_{N} x - 0.6 R_{h} {\\left\\langle x - 14.0 \\right\\rangle}^{1} - 0.8 R_{v} {\\left\\langle x - 14.0 \\right\\rangle}^{1} - 15 {\\left\\langle x \\right\\rangle}^{1} + 27.0 {\\left\\langle x - 4 \\right\\rangle}^{1} + 1.8 {\\left\\langle x - 4 \\right\\rangle}^{2} - 1.8 {\\left\\langle x - 6.5 \\right\\rangle}^{2} - 74.0 {\\left\\langle x - 9 \\right\\rangle}^{1}}{EA}\\right) {\\left\\langle x - 9 \\right\\rangle}^{0} - 0.6 \\left(- \\frac{14 C_{N} - 231.25}{EA} + \\frac{C_{N} x - 0.6 R_{h} {\\left\\langle x - 14.0 \\right\\rangle}^{1} - 0.8 R_{v} {\\left\\langle x - 14.0 \\right\\rangle}^{1} - 15 {\\left\\langle x \\right\\rangle}^{1} + 27.0 {\\left\\langle x - 4 \\right\\rangle}^{1} + 1.8 {\\left\\langle x - 4 \\right\\rangle}^{2} - 1.8 {\\left\\langle x - 6.5 \\right\\rangle}^{2} - 74.0 {\\left\\langle x - 9 \\right\\rangle}^{1}}{EA}\\right) {\\left\\langle x - 14 \\right\\rangle}^{0} + 0.6 \\left(- C_{\\phi} x + 4 C_{\\phi} + \\frac{8 C_{M} + \\frac{32 C_{V}}{3} - 85.3333333333333}{EI} - \\frac{\\frac{C_{M} x^{2}}{2} + \\frac{C_{V} x^{3}}{6} + 0.133333333333333 R_{h} {\\left\\langle x - 14.0 \\right\\rangle}^{3} - 0.1 R_{v} {\\left\\langle x - 14.0 \\right\\rangle}^{3} - \\frac{T_{R} {\\left\\langle x - 14.0 \\right\\rangle}^{2}}{2} - \\frac{{\\left\\langle x \\right\\rangle}^{4}}{4} - \\frac{8 {\\left\\langle x - 2.0 \\right\\rangle}^{3}}{3} - 0.166666666666667 {\\left\\langle x - 4 \\right\\rangle}^{3} + 0.05 {\\left\\langle x - 4 \\right\\rangle}^{4} + 0.2 {\\left\\langle x - 6.5 \\right\\rangle}^{4} + 5.33333333333333 {\\left\\langle x - 9 \\right\\rangle}^{3}}{EI}\\right) {\\left\\langle x - 4 \\right\\rangle}^{0} - 1.4 \\left(- C_{\\phi} x + 9 C_{\\phi} + \\frac{\\frac{81 C_{M}}{2} + \\frac{243 C_{V}}{2} - 2536.6875}{EI} - \\frac{\\frac{C_{M} x^{2}}{2} + \\frac{C_{V} x^{3}}{6} + 0.133333333333333 R_{h} {\\left\\langle x - 14.0 \\right\\rangle}^{3} - 0.1 R_{v} {\\left\\langle x - 14.0 \\right\\rangle}^{3} - \\frac{T_{R} {\\left\\langle x - 14.0 \\right\\rangle}^{2}}{2} - \\frac{{\\left\\langle x \\right\\rangle}^{4}}{4} - \\frac{8 {\\left\\langle x - 2.0 \\right\\rangle}^{3}}{3} - 0.166666666666667 {\\left\\langle x - 4 \\right\\rangle}^{3} + 0.05 {\\left\\langle x - 4 \\right\\rangle}^{4} + 0.2 {\\left\\langle x - 6.5 \\right\\rangle}^{4} + 5.33333333333333 {\\left\\langle x - 9 \\right\\rangle}^{3}}{EI}\\right) {\\left\\langle x - 9 \\right\\rangle}^{0} + 0.8 \\left(- C_{\\phi} x + 14 C_{\\phi} + \\frac{98 C_{M} + \\frac{1372 C_{V}}{3} - 12579.1875}{EI} - \\frac{\\frac{C_{M} x^{2}}{2} + \\frac{C_{V} x^{3}}{6} + 0.133333333333333 R_{h} {\\left\\langle x - 14.0 \\right\\rangle}^{3} - 0.1 R_{v} {\\left\\langle x - 14.0 \\right\\rangle}^{3} - \\frac{T_{R} {\\left\\langle x - 14.0 \\right\\rangle}^{2}}{2} - \\frac{{\\left\\langle x \\right\\rangle}^{4}}{4} - \\frac{8 {\\left\\langle x - 2.0 \\right\\rangle}^{3}}{3} - 0.166666666666667 {\\left\\langle x - 4 \\right\\rangle}^{3} + 0.05 {\\left\\langle x - 4 \\right\\rangle}^{4} + 0.2 {\\left\\langle x - 6.5 \\right\\rangle}^{4} + 5.33333333333333 {\\left\\langle x - 9 \\right\\rangle}^{3}}{EI}\\right) {\\left\\langle x - 14 \\right\\rangle}^{0} + \\frac{\\left(C_{N} x - 0.6 R_{h} {\\left\\langle x - 14.0 \\right\\rangle}^{1} - 0.8 R_{v} {\\left\\langle x - 14.0 \\right\\rangle}^{1} - 15 {\\left\\langle x \\right\\rangle}^{1} + 27.0 {\\left\\langle x - 4 \\right\\rangle}^{1} + 1.8 {\\left\\langle x - 4 \\right\\rangle}^{2} - 1.8 {\\left\\langle x - 6.5 \\right\\rangle}^{2} - 74.0 {\\left\\langle x - 9 \\right\\rangle}^{1}\\right) {\\left\\langle x \\right\\rangle}^{0}}{EA}$"
      ],
      "text/plain": [
       "C_ux - 0.2*(-(4*C_N - 60.0)/EA + (C_N*x - 0.6*R_h*SingularityFunction(x, 14.0, 1) - 0.8*R_v*SingularityFunction(x, 14.0, 1) - 15*SingularityFunction(x, 0.0, 1) + 27.0*SingularityFunction(x, 4, 1) + 1.8*SingularityFunction(x, 4, 2) - 1.8*SingularityFunction(x, 6.5, 2) - 74.0*SingularityFunction(x, 9, 1))/EA)*SingularityFunction(x, 4, 0) - 0.2*(-(9*C_N + 33.75)/EA + (C_N*x - 0.6*R_h*SingularityFunction(x, 14.0, 1) - 0.8*R_v*SingularityFunction(x, 14.0, 1) - 15*SingularityFunction(x, 0.0, 1) + 27.0*SingularityFunction(x, 4, 1) + 1.8*SingularityFunction(x, 4, 2) - 1.8*SingularityFunction(x, 6.5, 2) - 74.0*SingularityFunction(x, 9, 1))/EA)*SingularityFunction(x, 9, 0) - 0.6*(-(14*C_N - 231.25)/EA + (C_N*x - 0.6*R_h*SingularityFunction(x, 14.0, 1) - 0.8*R_v*SingularityFunction(x, 14.0, 1) - 15*SingularityFunction(x, 0.0, 1) + 27.0*SingularityFunction(x, 4, 1) + 1.8*SingularityFunction(x, 4, 2) - 1.8*SingularityFunction(x, 6.5, 2) - 74.0*SingularityFunction(x, 9, 1))/EA)*SingularityFunction(x, 14, 0) + 0.6*(-C_phi*x + 4*C_phi + (8*C_M + 32*C_V/3 - 85.3333333333333)/EI - (C_M*x**2/2 + C_V*x**3/6 + 0.133333333333333*R_h*SingularityFunction(x, 14.0, 3) - 0.1*R_v*SingularityFunction(x, 14.0, 3) - T_R*SingularityFunction(x, 14.0, 2)/2 - SingularityFunction(x, 0.0, 4)/4 - 8*SingularityFunction(x, 2.0, 3)/3 - 0.166666666666667*SingularityFunction(x, 4, 3) + 0.05*SingularityFunction(x, 4, 4) + 0.2*SingularityFunction(x, 6.5, 4) + 5.33333333333333*SingularityFunction(x, 9, 3))/EI)*SingularityFunction(x, 4, 0) - 1.4*(-C_phi*x + 9*C_phi + (81*C_M/2 + 243*C_V/2 - 2536.6875)/EI - (C_M*x**2/2 + C_V*x**3/6 + 0.133333333333333*R_h*SingularityFunction(x, 14.0, 3) - 0.1*R_v*SingularityFunction(x, 14.0, 3) - T_R*SingularityFunction(x, 14.0, 2)/2 - SingularityFunction(x, 0.0, 4)/4 - 8*SingularityFunction(x, 2.0, 3)/3 - 0.166666666666667*SingularityFunction(x, 4, 3) + 0.05*SingularityFunction(x, 4, 4) + 0.2*SingularityFunction(x, 6.5, 4) + 5.33333333333333*SingularityFunction(x, 9, 3))/EI)*SingularityFunction(x, 9, 0) + 0.8*(-C_phi*x + 14*C_phi + (98*C_M + 1372*C_V/3 - 12579.1875)/EI - (C_M*x**2/2 + C_V*x**3/6 + 0.133333333333333*R_h*SingularityFunction(x, 14.0, 3) - 0.1*R_v*SingularityFunction(x, 14.0, 3) - T_R*SingularityFunction(x, 14.0, 2)/2 - SingularityFunction(x, 0.0, 4)/4 - 8*SingularityFunction(x, 2.0, 3)/3 - 0.166666666666667*SingularityFunction(x, 4, 3) + 0.05*SingularityFunction(x, 4, 4) + 0.2*SingularityFunction(x, 6.5, 4) + 5.33333333333333*SingularityFunction(x, 9, 3))/EI)*SingularityFunction(x, 14, 0) + (C_N*x - 0.6*R_h*SingularityFunction(x, 14.0, 1) - 0.8*R_v*SingularityFunction(x, 14.0, 1) - 15*SingularityFunction(x, 0.0, 1) + 27.0*SingularityFunction(x, 4, 1) + 1.8*SingularityFunction(x, 4, 2) - 1.8*SingularityFunction(x, 6.5, 2) - 74.0*SingularityFunction(x, 9, 1))*SingularityFunction(x, 0, 0)/EA"
      ]
     },
     "metadata": {},
     "output_type": "display_data"
    }
   ],
   "source": [
    "V = -sym.integrate(qz.expand(), x) + CV\n",
    "M = sym.integrate(V, x) + CM\n",
    "kappa = M / EI\n",
    "phi = sym.integrate(kappa, x) + Cphi\n",
    "uz = -sym.integrate(phi, x) + Cuz\n",
    "\n",
    "N = -sym.integrate(qx.expand(), x) + CN\n",
    "epsilon = N / EA\n",
    "ux = sym.integrate(epsilon, x) + Cux\n",
    "\n",
    "uvz = uz.subs(x,0) * sym.cos(o0)\n",
    "uvx = -ux.subs(x,0) * sym.sin(o0)\n",
    "for i in range(len(oo)):\n",
    "    uvz += ((uz - uz.subs(x,aa[i])) * sym.SingularityFunction(x,aa[i],0) - (uz - uz.subs(x,aa[i+1])) * sym.SingularityFunction(x,aa[i+1],0)) * sym.cos(oo[i])\n",
    "    uvx += -((ux - ux.subs(x,aa[i])) * sym.SingularityFunction(x,aa[i],0) - (ux - ux.subs(x,aa[i+1])) * sym.SingularityFunction(x,aa[i+1],0)) * sym.sin(oo[i])\n",
    "uv = uvz + uvx\n",
    "\n",
    "uhz = uz.subs(x,0) * sym.sin(o0)\n",
    "uhx = ux.subs(x,0) * sym.cos(o0)\n",
    "for i in range(len(oo)):\n",
    "    uhz += ((uz - uz.subs(x,aa[i])) * sym.SingularityFunction(x,aa[i],0) - (uz - uz.subs(x,aa[i+1])) * sym.SingularityFunction(x,aa[i+1],0)) * sym.sin(oo[i])\n",
    "    uhx += ((ux - ux.subs(x,aa[i])) * sym.SingularityFunction(x,aa[i],0) - (ux - ux.subs(x,aa[i+1])) * sym.SingularityFunction(x,aa[i+1],0)) * sym.cos(oo[i])\n",
    "uh = uhz + uhx\n",
    "\n",
    "display(sym.symbols('{N}='), N)\n",
    "display(sym.symbols('{V}='), V)\n",
    "display(sym.symbols('{M}='), M)\n",
    "display(sym.symbols('{u_x}='), ux)\n",
    "display(sym.symbols('{\\phi}='), phi)\n",
    "display(sym.symbols('{u_z}='), uz)\n",
    "display(sym.symbols('{u_v}='), uv)\n",
    "display(sym.symbols('{u_h}='), uh)"
   ]
  },
  {
   "cell_type": "code",
   "execution_count": 6,
   "id": "b66d2ce6-b615-466b-8d6a-cdd98ae6291e",
   "metadata": {},
   "outputs": [],
   "source": [
    "# 3 reactiekrachten + 6 integratieconstanten = 9 voorwaarden\n",
    "Eq1 = sym.Eq(N.subs(x,0-dx),0)\n",
    "Eq2 = sym.Eq(N.subs(x,L+dx),0)\n",
    "Eq3 = sym.Eq(V.subs(x,0-dx),0)\n",
    "Eq4 = sym.Eq(V.subs(x,L+dx),0)\n",
    "Eq5 = sym.Eq(M.subs(x,0),0)\n",
    "Eq6 = sym.Eq(M.subs(x,L+dx),0)\n",
    "Eq7 = sym.Eq(phi.subs(x,L),0)\n",
    "Eq8 = sym.Eq(uv.subs(x,L),0)\n",
    "Eq9 = sym.Eq(uh.subs(x,L),0)"
   ]
  },
  {
   "cell_type": "code",
   "execution_count": 7,
   "id": "d96d4aa1-abb8-4778-a802-93d64a112a30",
   "metadata": {},
   "outputs": [
    {
     "data": {
      "text/plain": [
       "{C_M: 0.0,\n",
       " C_N: 0.0,\n",
       " C_V: 0.0,\n",
       " C_phi: 3008.5/EI,\n",
       " C_ux: 0.0625*(56875.0*EA + 2304.0*EI)/(EA*EI),\n",
       " C_uz: 0.0833333333333333*(300259.0*EA + 3219.0*EI)/(EA*EI),\n",
       " R_h: -15.0000000000000,\n",
       " R_v: -55.0000000000000,\n",
       " T_R: -435.000000000000}"
      ]
     },
     "metadata": {},
     "output_type": "display_data"
    }
   ],
   "source": [
    "sol = sym.solve((Eq1,Eq2,Eq3,Eq4,Eq5,Eq6,Eq7,Eq8,Eq9),(Rv,Rh,Tr,CN,CV,CM,Cphi,Cuz,Cux))\n",
    "display(sol)"
   ]
  },
  {
   "cell_type": "code",
   "execution_count": 8,
   "id": "5ec30373-3db9-4fee-b3fa-e265e04350c1",
   "metadata": {},
   "outputs": [
    {
     "data": {
      "text/plain": [
       "'R_v = -55.00'"
      ]
     },
     "metadata": {},
     "output_type": "display_data"
    },
    {
     "data": {
      "text/plain": [
       "'R_h = -15.00'"
      ]
     },
     "metadata": {},
     "output_type": "display_data"
    },
    {
     "data": {
      "text/plain": [
       "'T_R = -435.00'"
      ]
     },
     "metadata": {},
     "output_type": "display_data"
    },
    {
     "data": {
      "text/plain": [
       "'C_N = 0.00'"
      ]
     },
     "metadata": {},
     "output_type": "display_data"
    },
    {
     "data": {
      "text/plain": [
       "'C_V = 0.00'"
      ]
     },
     "metadata": {},
     "output_type": "display_data"
    },
    {
     "data": {
      "text/plain": [
       "'C_M = 0.00'"
      ]
     },
     "metadata": {},
     "output_type": "display_data"
    },
    {
     "data": {
      "text/plain": [
       "'C_phi = 0.1003'"
      ]
     },
     "metadata": {},
     "output_type": "display_data"
    },
    {
     "data": {
      "text/plain": [
       "'C_ux = 0.1329'"
      ]
     },
     "metadata": {},
     "output_type": "display_data"
    },
    {
     "data": {
      "text/plain": [
       "'C_uz = 0.8609'"
      ]
     },
     "metadata": {},
     "output_type": "display_data"
    }
   ],
   "source": [
    "ea = 10**4\n",
    "ei = 3 * 10**4\n",
    "\n",
    "display(f'{Rv} = {Rv.subs(sol).subs(EI,ei).subs(EA,ea):.2f}')\n",
    "display(f'{Rh} = {Rh.subs(sol).subs(EI,ei).subs(EA,ea):.2f}')\n",
    "display(f'{Tr} = {Tr.subs(sol).subs(EI,ei).subs(EA,ea):.2f}')\n",
    "\n",
    "display(f'{CN} = {CN.subs(sol).subs(EI,ei).subs(EA,ea):.2f}')\n",
    "display(f'{CV} = {CV.subs(sol).subs(EI,ei).subs(EA,ea):.2f}')\n",
    "display(f'{CM} = {CM.subs(sol).subs(EI,ei).subs(EA,ea):.2f}')\n",
    "display(f'{Cphi} = {Cphi.subs(sol).subs(EI,ei).subs(EA,ea):.4f}')\n",
    "display(f'{Cux} = {Cux.subs(sol).subs(EI,ei).subs(EA,ea):.4f}')\n",
    "display(f'{Cuz} = {Cuz.subs(sol).subs(EI,ei).subs(EA,ea):.4f}')"
   ]
  },
  {
   "cell_type": "code",
   "execution_count": 9,
   "id": "95b863be-4375-4d47-a21b-5462786c9f08",
   "metadata": {},
   "outputs": [],
   "source": [
    "v = 0\n",
    "h = 0\n",
    "for i in range(len(oo)):\n",
    "    v += -(sym.SingularityFunction(x,aa[i],1) - sym.SingularityFunction(x,aa[i+1],1)) * sym.sin(oo[i])\n",
    "    h += (sym.SingularityFunction(x,aa[i],1) - sym.SingularityFunction(x,aa[i+1],1)) * sym.cos(oo[i])"
   ]
  },
  {
   "cell_type": "code",
   "execution_count": 10,
   "id": "32b82db0-feef-4395-9e73-9d6915697be7",
   "metadata": {},
   "outputs": [
    {
     "data": {
      "text/latex": [
       "$\\displaystyle - 15 {\\left\\langle x \\right\\rangle}^{0} + 27.0 {\\left\\langle x - 4 \\right\\rangle}^{0} + 3.6 {\\left\\langle x - 4 \\right\\rangle}^{1} - 3.6 {\\left\\langle x - 6.5 \\right\\rangle}^{1} - 74.0 {\\left\\langle x - 9 \\right\\rangle}^{0} + 53.0 {\\left\\langle x - 14.0 \\right\\rangle}^{0}$"
      ],
      "text/plain": [
       "-15*SingularityFunction(x, 0.0, 0) + 27.0*SingularityFunction(x, 4, 0) + 3.6*SingularityFunction(x, 4, 1) - 3.6*SingularityFunction(x, 6.5, 1) - 74.0*SingularityFunction(x, 9, 0) + 53.0*SingularityFunction(x, 14.0, 0)"
      ]
     },
     "metadata": {},
     "output_type": "display_data"
    },
    {
     "data": {
      "text/plain": [
       "'N(0) = -15.0000000000000'"
      ]
     },
     "metadata": {},
     "output_type": "display_data"
    },
    {
     "data": {
      "text/plain": [
       "'N(4+) = 12.0000000000000'"
      ]
     },
     "metadata": {},
     "output_type": "display_data"
    },
    {
     "data": {
      "text/plain": [
       "'N(9-) = 21.0000000000000'"
      ]
     },
     "metadata": {},
     "output_type": "display_data"
    },
    {
     "data": {
      "text/plain": [
       "'N(9+) = -53.0000000000000'"
      ]
     },
     "metadata": {},
     "output_type": "display_data"
    },
    {
     "data": {
      "image/png": "[encoded data removed]",
      "text/plain": [
       "<Figure size 640x480 with 1 Axes>"
      ]
     },
     "metadata": {},
     "output_type": "display_data"
    }
   ],
   "source": [
    "x_np = np.linspace(0-dx,L+dx,10000)\n",
    "N_np = sym.lambdify(x, N.subs(sol).rewrite(sym.Piecewise))\n",
    "display(N.subs(sol))\n",
    "display(f'N(0) = {N.subs(x,0).subs(sol)}')\n",
    "display(f'N(4+) = {N.subs(x,4).subs(sol)}')\n",
    "display(f'N(9-) = {N.subs(x,9-dx).subs(sol)}')\n",
    "display(f'N(9+) = {N.subs(x,9).subs(sol)}')\n",
    "\n",
    "plt.figure()\n",
    "plt.plot(x_np,N_np(x_np))\n",
    "plt.xlabel('$x$')\n",
    "plt.ylabel('$N$');\n",
    "ax = plt.gca()\n",
    "ax.spines['right'].set_color('none')\n",
    "ax.spines['top'].set_color('none')\n",
    "ax.spines['bottom'].set_position('zero')\n",
    "ax.spines['left'].set_position('zero')\n",
    "ax.invert_yaxis()"
   ]
  },
  {
   "cell_type": "code",
   "execution_count": 11,
   "id": "48b76cf8-43a5-404d-96c1-c7378039f35b",
   "metadata": {},
   "outputs": [
    {
     "data": {
      "text/latex": [
       "$\\displaystyle - 6 {\\left\\langle x \\right\\rangle}^{1} - 16 {\\left\\langle x - 2.0 \\right\\rangle}^{0} - 1.0 {\\left\\langle x - 4 \\right\\rangle}^{0} + 1.2 {\\left\\langle x - 4 \\right\\rangle}^{1} + 4.8 {\\left\\langle x - 6.5 \\right\\rangle}^{1} + 32.0 {\\left\\langle x - 9 \\right\\rangle}^{0} + 435.0 {\\left\\langle x - 14.0 \\right\\rangle}^{-1} + 21.0 {\\left\\langle x - 14.0 \\right\\rangle}^{0}$"
      ],
      "text/plain": [
       "-6*SingularityFunction(x, 0.0, 1) - 16*SingularityFunction(x, 2.0, 0) - 1.0*SingularityFunction(x, 4, 0) + 1.2*SingularityFunction(x, 4, 1) + 4.8*SingularityFunction(x, 6.5, 1) + 32.0*SingularityFunction(x, 9, 0) + 435.0*SingularityFunction(x, 14.0, -1) + 21.0*SingularityFunction(x, 14.0, 0)"
      ]
     },
     "metadata": {},
     "output_type": "display_data"
    },
    {
     "data": {
      "text/plain": [
       "'V(2-) = -12.0000000000000'"
      ]
     },
     "metadata": {},
     "output_type": "display_data"
    },
    {
     "data": {
      "text/plain": [
       "'V(2+) = -28.0000000000000'"
      ]
     },
     "metadata": {},
     "output_type": "display_data"
    },
    {
     "data": {
      "text/plain": [
       "'V(4-) = -40.0000000000000'"
      ]
     },
     "metadata": {},
     "output_type": "display_data"
    },
    {
     "data": {
      "text/plain": [
       "'V(4+) = -41.0000000000000'"
      ]
     },
     "metadata": {},
     "output_type": "display_data"
    },
    {
     "data": {
      "text/plain": [
       "'V(9-) = -53.0000000000000'"
      ]
     },
     "metadata": {},
     "output_type": "display_data"
    },
    {
     "data": {
      "text/plain": [
       "'V(9+) = -21.0000000000000'"
      ]
     },
     "metadata": {},
     "output_type": "display_data"
    },
    {
     "data": {
      "image/png": "[encoded data removed]",
      "text/plain": [
       "<Figure size 640x480 with 1 Axes>"
      ]
     },
     "metadata": {},
     "output_type": "display_data"
    }
   ],
   "source": [
    "V_np = sym.lambdify(x, V.subs(sol).rewrite(sym.Piecewise))\n",
    "display(V.subs(sol))\n",
    "display(f'V(2-) = {V.subs(x,b2-dx).subs(sol)}')\n",
    "display(f'V(2+) = {V.subs(x,b2).subs(sol)}')\n",
    "display(f'V(4-) = {V.subs(x,a1-dx).subs(sol)}')\n",
    "display(f'V(4+) = {V.subs(x,a1).subs(sol)}')\n",
    "display(f'V(9-) = {V.subs(x,a2-dx).subs(sol)}')\n",
    "display(f'V(9+) = {V.subs(x,a2).subs(sol)}')\n",
    "\n",
    "plt.figure()\n",
    "plt.plot(x_np,V_np(x_np))\n",
    "plt.xlabel('$x$')\n",
    "plt.ylabel('$V$');\n",
    "ax = plt.gca()\n",
    "ax.spines['right'].set_color('none')\n",
    "ax.spines['top'].set_color('none')\n",
    "ax.spines['bottom'].set_position('zero')\n",
    "ax.spines['left'].set_position('zero')\n",
    "ax.invert_yaxis()"
   ]
  },
  {
   "cell_type": "code",
   "execution_count": 12,
   "id": "43c2ee33-53de-46a2-be24-428c29f5f21d",
   "metadata": {},
   "outputs": [
    {
     "data": {
      "text/latex": [
       "$\\displaystyle - 3 {\\left\\langle x \\right\\rangle}^{2} - 16 {\\left\\langle x - 2.0 \\right\\rangle}^{1} - 1.0 {\\left\\langle x - 4 \\right\\rangle}^{1} + 0.6 {\\left\\langle x - 4 \\right\\rangle}^{2} + 2.4 {\\left\\langle x - 6.5 \\right\\rangle}^{2} + 32.0 {\\left\\langle x - 9 \\right\\rangle}^{1} + 435.0 {\\left\\langle x - 14.0 \\right\\rangle}^{0} + 21.0 {\\left\\langle x - 14.0 \\right\\rangle}^{1}$"
      ],
      "text/plain": [
       "-3*SingularityFunction(x, 0.0, 2) - 16*SingularityFunction(x, 2.0, 1) - 1.0*SingularityFunction(x, 4, 1) + 0.6*SingularityFunction(x, 4, 2) + 2.4*SingularityFunction(x, 6.5, 2) + 32.0*SingularityFunction(x, 9, 1) + 435.0*SingularityFunction(x, 14.0, 0) + 21.0*SingularityFunction(x, 14.0, 1)"
      ]
     },
     "metadata": {},
     "output_type": "display_data"
    },
    {
     "data": {
      "text/plain": [
       "'M(4) = -80.0000000000000'"
      ]
     },
     "metadata": {},
     "output_type": "display_data"
    },
    {
     "data": {
      "text/plain": [
       "'M(9) = -330.000000000000'"
      ]
     },
     "metadata": {},
     "output_type": "display_data"
    },
    {
     "data": {
      "text/plain": [
       "'M(14) = -435.000000000000'"
      ]
     },
     "metadata": {},
     "output_type": "display_data"
    },
    {
     "data": {
      "image/png": "[encoded data removed]",
      "text/plain": [
       "<Figure size 640x480 with 1 Axes>"
      ]
     },
     "metadata": {},
     "output_type": "display_data"
    }
   ],
   "source": [
    "M_np = sym.lambdify(x, M.subs(sol).rewrite(sym.Piecewise))\n",
    "display(M.subs(sol))\n",
    "display(f'M(4) = {M.subs(x,4).subs(sol)}')\n",
    "display(f'M(9) = {M.subs(x,9).subs(sol)}')\n",
    "display(f'M(14) = {M.subs(x,14-dx).subs(sol)}')\n",
    "\n",
    "plt.figure()\n",
    "plt.plot(x_np,M_np(x_np))\n",
    "plt.xlabel('$x$')\n",
    "plt.ylabel('$M$');\n",
    "ax = plt.gca()\n",
    "ax.spines['right'].set_color('none')\n",
    "ax.spines['top'].set_color('none')\n",
    "ax.spines['bottom'].set_position('zero')\n",
    "ax.spines['left'].set_position('zero')\n",
    "ax.invert_yaxis()"
   ]
  },
  {
   "cell_type": "code",
   "execution_count": 13,
   "id": "8895a8e1-55c5-492d-b840-816f7259a439",
   "metadata": {},
   "outputs": [
    {
     "data": {
      "text/plain": [
       "'uv(0) = 0.8609'"
      ]
     },
     "metadata": {},
     "output_type": "display_data"
    },
    {
     "data": {
      "text/plain": [
       "'uv(4) = 0.4626'"
      ]
     },
     "metadata": {},
     "output_type": "display_data"
    },
    {
     "data": {
      "text/plain": [
       "'uv(9) = 0.1212'"
      ]
     },
     "metadata": {},
     "output_type": "display_data"
    },
    {
     "data": {
      "text/plain": [
       "'uh(0) = 0.1329'"
      ]
     },
     "metadata": {},
     "output_type": "display_data"
    },
    {
     "data": {
      "text/plain": [
       "'uh(4) = 0.1269'"
      ]
     },
     "metadata": {},
     "output_type": "display_data"
    },
    {
     "data": {
      "text/plain": [
       "'uh(9) = -0.1174'"
      ]
     },
     "metadata": {},
     "output_type": "display_data"
    },
    {
     "data": {
      "image/png": "[encoded data removed]",
      "text/plain": [
       "<Figure size 640x480 with 1 Axes>"
      ]
     },
     "metadata": {},
     "output_type": "display_data"
    }
   ],
   "source": [
    "v_np = sym.lambdify(x, v.rewrite(sym.Piecewise))\n",
    "h_np = sym.lambdify(x, h.rewrite(sym.Piecewise))\n",
    "\n",
    "uv_np = sym.lambdify(x, uv.subs(sol).subs(EI,3*10**4).subs(EA,10**4).rewrite(sym.Piecewise))\n",
    "uh_np = sym.lambdify(x, uh.subs(sol).subs(EI,3*10**4).subs(EA,10**4).rewrite(sym.Piecewise))\n",
    "\n",
    "#display(uv.subs(sol))\n",
    "display(f'uv(0) = {uv.subs(x,0).subs(sol).subs(EI,3*10**4).subs(EA,10**4):.4f}')\n",
    "display(f'uv(4) = {uv.subs(x,4).subs(sol).subs(EI,3*10**4).subs(EA,10**4):.4f}')\n",
    "display(f'uv(9) = {uv.subs(x,9).subs(sol).subs(EI,3*10**4).subs(EA,10**4):.4f}')\n",
    "\n",
    "#display(uh.subs(sol))\n",
    "display(f'uh(0) = {uh.subs(x,0).subs(sol).subs(EI,3*10**4).subs(EA,10**4):.4f}')\n",
    "display(f'uh(4) = {uh.subs(x,4).subs(sol).subs(EI,3*10**4).subs(EA,10**4):.4f}')\n",
    "display(f'uh(9) = {uh.subs(x,9).subs(sol).subs(EI,3*10**4).subs(EA,10**4):.4f}')\n",
    "\n",
    "plt.figure()\n",
    "plt.plot(h_np(x_np),v_np(x_np), linewidth=2, color='black', label='constructie')\n",
    "plt.plot((h_np(x_np)+uh_np(x_np)),(v_np(x_np)+uv_np(x_np)), label='vervormde constructie')\n",
    "plt.xlabel('$h$')\n",
    "plt.ylabel('$v$');\n",
    "ax = plt.gca()\n",
    "ax.spines['right'].set_color('none')\n",
    "ax.spines['top'].set_color('none')\n",
    "ax.spines['bottom'].set_position('zero')\n",
    "ax.spines['left'].set_position('zero')\n",
    "ax.invert_yaxis()\n",
    "plt.axis('scaled')\n",
    "ax.legend(loc='upper center', bbox_to_anchor=(0.5, -0.05),fancybox=True, shadow=False, ncol=3);"
   ]
  },
  {
   "cell_type": "code",
   "execution_count": null,
   "id": "7e03e9da-2e11-4ec7-a8e8-102237e5c0b3",
   "metadata": {},
   "outputs": [],
   "source": []
  }
 ],
 "metadata": {
  "kernelspec": {
   "display_name": "Python 3 (ipykernel)",
   "language": "python",
   "name": "python3"
  },
  "language_info": {
   "codemirror_mode": {
    "name": "ipython",
    "version": 3
   },
   "file_extension": ".py",
   "mimetype": "text/x-python",
   "name": "python",
   "nbconvert_exporter": "python",
   "pygments_lexer": "ipython3",
   "version": "3.11.9"
  }
 },
 "nbformat": 4,
 "nbformat_minor": 5
}
